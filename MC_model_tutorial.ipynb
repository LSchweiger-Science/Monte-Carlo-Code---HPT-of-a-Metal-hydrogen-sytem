{
 "cells": [
  {
   "cell_type": "markdown",
   "id": "d8e54256",
   "metadata": {},
   "source": [
    "# Monte Carlo Simulation\n",
    "\n",
    "#### By Lukas Schweiger - Montanuniversität Leoben - Department Materials Science"
   ]
  },
  {
   "cell_type": "markdown",
   "id": "a17de574",
   "metadata": {},
   "source": [
    "#### Importing required packages"
   ]
  },
  {
   "cell_type": "code",
   "execution_count": 1,
   "id": "8b7f4660",
   "metadata": {},
   "outputs": [],
   "source": [
    "import numpy as np\n",
    "import random\n",
    "import pandas as pd\n",
    "import os  # For folder creation\n",
    "import matplotlib.pyplot as plt\n",
    "from matplotlib.colors import LinearSegmentedColormap\n",
    "from matplotlib.colors import ListedColormap\n",
    "import matplotlib.colors as mcolors\n",
    "from matplotlib import ticker\n",
    "from scipy import constants\n",
    "import seaborn as sns\n",
    "from tqdm import tqdm  # For progress bar\n",
    "from PIL import Image\n",
    "from glob import glob\n",
    "\n",
    "# Defining the inch to cm ratio for plotting \n",
    "cm=1/2.54"
   ]
  },
  {
   "cell_type": "markdown",
   "id": "73525633",
   "metadata": {},
   "source": [
    "# Metal Grid"
   ]
  },
  {
   "cell_type": "markdown",
   "id": "05772e63",
   "metadata": {},
   "source": [
    "### Overview of the functions\n",
    "\n",
    "Function to initialize the grid with quadrants (checkerboard-like pattern with 4 fields)\n",
    "\n",
    "`def initialize_grid(grid_size):`\n",
    "\n",
    "---\n",
    "\n",
    "Alternatively we can generate a grid from any binary image derived from a real SEM image\n",
    "\n",
    "`def initialize_grid_from_image(image_path, grid_size):`\n",
    "\n",
    "---\n",
    "\n",
    "Function to perform a shear step (mechanical intermixing) with flow strength weighting\n",
    "\n",
    "`def shear_step(metal_grid, shear_type=\"both\", strength_A=1, strength_B=0.2, shear_counts=None): Performs the shear steps simulating plastic deformation`\n",
    "\n",
    "---\n",
    "\n",
    "Function to calculate local energy around a site (x, y), considering periodic boundary conditions\n",
    "\n",
    "`def calculate_metal_metal_interaction_energy(x, y, metal_grid, _AA, E_BB; E_AB):`\n",
    "\n",
    "---\n",
    "\n",
    "Function to calculate total energy of the grid, considering periodic boundary conditions\n",
    "\n",
    "`def calculate_total_metal_metal_interaction_energy(metal_grid, _AA, E_BB; E_AB):`\n",
    "\n",
    "---\n",
    "\n",
    "Function to perform one Monte Carlo step (diffusion)\n",
    "\n",
    "`def metal_diffusion_step(metal_grid, kT, E_AA, E_BB; E_AB):`\n",
    "\n",
    "---\n",
    "\n",
    "Function to calculate the mixing index of the grid, considering periodic boundary conditions\n",
    "\n",
    "`def calculate_mixing_index(metal_grid):`\n",
    "\n",
    "---\n",
    "\n",
    "Function to sample energy values from a normal distribution\n",
    "\n",
    "`def sample_energy(E_mean, E_std)`\n",
    "\n",
    "---\n",
    "\n",
    "Function to yield the interval for sampling the mixing index and totoal energy, dependent on the total number of Monte Carlo (MC) steps:\n",
    "\n",
    "`def get_sampling_interval(n_mc_steps):`"
   ]
  },
  {
   "cell_type": "markdown",
   "id": "51ca7ab3",
   "metadata": {},
   "source": [
    "---\n",
    "\n",
    "#### def initialize_grid():\n",
    "\n",
    "This grid initialization represents a physical system where two types of atoms (A and B) are initially present in separate regions. The system starts in a highly ordered state, with A atoms in the top-left and bottom-right quadrants and B atoms in the top-right and bottom-left quadrants. This segregation can mimic a scenario like phase separation or a structured alloy with two different metal components - but overall this is an EXAMPLARY MODEL MICROSTRUCTURE.\n",
    "(Was used for first simulation trials)\n",
    "\n",
    "##### A atoms, e.g., TiVZrNbHf - 0\n",
    "\n",
    "##### B atoms, e.g., Cu - 1"
   ]
  },
  {
   "cell_type": "code",
   "execution_count": 2,
   "id": "f5a9e4d7",
   "metadata": {},
   "outputs": [],
   "source": [
    "# Function to initialize the grid with quadrants (checkerboard-like pattern with 4 fields)\n",
    "def initialize_metal_grid(grid_size):\n",
    "    \"\"\"\n",
    "    This defines a function named initialize_metal_grid().\n",
    "    The purpose of this function is to initialize a metal grid with a checkerboard-like pattern\n",
    "    consisting of four quadrants, representing two different types of atoms A (=0) and B (=1).\n",
    "    A (=0) is the metal with high hydrogen affinity, B (=1) the atom with low hydrogen affinity.\n",
    "    \n",
    "    Parameters:\n",
    "    - grid_size          : int, the size of the desired grid (e.g., 100 for a 100x100 grid).\n",
    "    \n",
    "    Returns:\n",
    "    - metal_grid         : 2D numpy array, where 0 represents one type of atom (A / HEA) and 1 represents another (B / Cu).\n",
    "    \"\"\"\n",
    "    \n",
    "    # Creates a 2D array of size grid_size x grid_size, filled with zeros.\n",
    "    metal_grid = np.zeros((grid_size, grid_size), np.int64) # np.int64 is important for the compilation using numba / njit\n",
    "    \n",
    "    # This calculates half_size as half of the total grid size (grid_size), using integer division (//).\n",
    "    half_size = grid_size // 2\n",
    "    \n",
    "    # Assigns 0 (representing A atoms) and 1 (representing B atoms) to the top-left quadrant of the grid.\n",
    "    metal_grid[:half_size, :half_size] = 0  # Top-left quadrant (A atoms)\n",
    "    metal_grid[:half_size, half_size:] = 1  # Top-right quadrant (B atoms)\n",
    "    metal_grid[half_size:, :half_size] = 1  # Bottom-left quadrant (B atoms)\n",
    "    metal_grid[half_size:, half_size:] = 0  # Bottom-right quadrant (A atoms)\n",
    "    \n",
    "    return metal_grid"
   ]
  },
  {
   "cell_type": "markdown",
   "id": "de192308",
   "metadata": {},
   "source": [
    "#### Demonstration"
   ]
  },
  {
   "cell_type": "code",
   "execution_count": 3,
   "id": "7b4de65f",
   "metadata": {},
   "outputs": [
    {
     "data": {
      "text/plain": [
       "array([[0, 0, 1, 1],\n",
       "       [0, 0, 1, 1],\n",
       "       [1, 1, 0, 0],\n",
       "       [1, 1, 0, 0]], dtype=int64)"
      ]
     },
     "execution_count": 3,
     "metadata": {},
     "output_type": "execute_result"
    }
   ],
   "source": [
    "grid_size = 4\n",
    "metal_grid = initialize_metal_grid(grid_size)\n",
    "\n",
    "metal_grid"
   ]
  },
  {
   "cell_type": "code",
   "execution_count": 4,
   "id": "b4dbf1dd",
   "metadata": {},
   "outputs": [
    {
     "data": {
      "text/plain": [
       "<matplotlib.image.AxesImage at 0x1c41cb75f70>"
      ]
     },
     "execution_count": 4,
     "metadata": {},
     "output_type": "execute_result"
    },
    {
     "data": {
      "image/png": "[encoded data removed]",
      "text/plain": [
       "<Figure size 432x288 with 1 Axes>"
      ]
     },
     "metadata": {
      "needs_background": "light"
     },
     "output_type": "display_data"
    }
   ],
   "source": [
    "# Plot grid to show that the Numpy Array \n",
    "plt.imshow(metal_grid)"
   ]
  },
  {
   "cell_type": "markdown",
   "id": "948dc279",
   "metadata": {},
   "source": [
    "---\n",
    "\n",
    "#### def initialize_grid_from_image():\n",
    "\n",
    "This grid initialization represents a physical system where two types of atoms (A and B) are initially segregated into separate regions. The system starts in a state that is given by a binary image derived from an SEM image. This can mimic a scenario that is closer to a real starting structure before, e.g., HPT.\n",
    "\n",
    "Details about the loading and conversion:\n",
    "https://stackoverflow.com/questions/52307290/what-is-the-difference-between-images-in-p-and-l-mode-in-pil\n",
    "\n",
    "Details about the image downscaling - In particular the \"Antialiasing\":\n",
    "https://github.com/python-pillow/Pillow/issues/6200"
   ]
  },
  {
   "cell_type": "code",
   "execution_count": 5,
   "id": "33f9bfd9",
   "metadata": {},
   "outputs": [],
   "source": [
    "# Alternatively we can generate a grid from any binary image derived from a real SEM image\n",
    "def initialize_grid_from_image(image_path, grid_size):\n",
    "    \"\"\"\n",
    "    Initializes a grid based on a binary input image. \n",
    "    Such a binary imput image can be a \"thresholded\" SEM image of a real microstructure.\n",
    "    \n",
    "    Parameters:\n",
    "    - image_path           : str, path to the binary image file (black-and-white).\n",
    "    - grid_size            : int, the size of the desired grid (e.g., 100 for a 100x100 grid).\n",
    "    \n",
    "    Returns:\n",
    "    - metal_grid           : 2D numpy array, where 0 represents one type of atom (A / HEA)\n",
    "                             and 1 represents (B / Cu) another.\n",
    "    \"\"\"\n",
    "    # Load the image in grayscale mode and convert it to a binary (black-and-white) image (this is done by .convert(\"L\"))\n",
    "    img = Image.open(image_path).convert(\"L\")\n",
    "    \n",
    "    # Resize the image to the desired grid size, using antialiasing to improve downscaling\n",
    "    img_resized = img.resize((grid_size, grid_size), Image.LANCZOS) # PIL.ANTIALIAS was removed in Pillow 10.0.0\n",
    "    \n",
    "    # Convert image to binary values (0 or 1) based on a threshold (128 is the midpoint of grayscale)\n",
    "    metal_grid = np.array(img_resized) > 128\n",
    "    metal_grid = metal_grid.astype(np.int64)  # Convert to integer (0s and 1s); np.int64 is important for the compilation using numba / njit\n",
    "    \n",
    "    return metal_grid"
   ]
  },
  {
   "cell_type": "markdown",
   "id": "af501615",
   "metadata": {},
   "source": [
    "#### Demonstration"
   ]
  },
  {
   "cell_type": "code",
   "execution_count": 6,
   "id": "eb68c4c9",
   "metadata": {},
   "outputs": [
    {
     "data": {
      "text/plain": [
       "array([[0, 0, 0, ..., 0, 1, 1],\n",
       "       [0, 0, 0, ..., 1, 1, 1],\n",
       "       [0, 0, 0, ..., 1, 0, 0],\n",
       "       ...,\n",
       "       [0, 0, 0, ..., 1, 1, 1],\n",
       "       [0, 0, 0, ..., 1, 0, 1],\n",
       "       [0, 0, 0, ..., 1, 0, 1]], dtype=int64)"
      ]
     },
     "execution_count": 6,
     "metadata": {},
     "output_type": "execute_result"
    }
   ],
   "source": [
    "grid_size = 100\n",
    "\n",
    "FILEPATH_STARTING_CONFIGURATION = \"Real_starting_conf.png\"\n",
    "metal_grid = initialize_grid_from_image(FILEPATH_STARTING_CONFIGURATION, grid_size)\n",
    "metal_grid"
   ]
  },
  {
   "cell_type": "code",
   "execution_count": 7,
   "id": "8964df0a",
   "metadata": {},
   "outputs": [
    {
     "data": {
      "text/plain": [
       "<matplotlib.image.AxesImage at 0x1c41ec71df0>"
      ]
     },
     "execution_count": 7,
     "metadata": {},
     "output_type": "execute_result"
    },
    {
     "data": {
      "image/png": "[encoded data removed]",
      "text/plain": [
       "<Figure size 432x288 with 1 Axes>"
      ]
     },
     "metadata": {
      "needs_background": "light"
     },
     "output_type": "display_data"
    }
   ],
   "source": [
    "# Plot grid to show that the Numpy Array actually represents the (binary) SEM image.\n",
    "# Dark color represent 0, i.e., the A atoms.\n",
    "plt.imshow(metal_grid)"
   ]
  },
  {
   "cell_type": "markdown",
   "id": "f238bf09",
   "metadata": {},
   "source": [
    "The original \"thresholded\" SEM image is plotted in the next cell.\n",
    "\n",
    "It must be noted that in this plot the initial structure becomes inverted when loading in python, i.e., 0 get 1, 1 get 0.\n",
    "\n",
    "However, in \"initialize_grid_from_image\" 0 remains 0 and 1 remains 1. "
   ]
  },
  {
   "cell_type": "code",
   "execution_count": 8,
   "id": "6d91ba17",
   "metadata": {},
   "outputs": [
    {
     "data": {
      "text/plain": [
       "<matplotlib.image.AxesImage at 0x1c41ecd8ac0>"
      ]
     },
     "execution_count": 8,
     "metadata": {},
     "output_type": "execute_result"
    },
    {
     "data": {
      "image/png": "[encoded data removed]",
      "text/plain": [
       "<Figure size 432x288 with 1 Axes>"
      ]
     },
     "metadata": {
      "needs_background": "light"
     },
     "output_type": "display_data"
    }
   ],
   "source": [
    "img = Image.open(FILEPATH_STARTING_CONFIGURATION).convert(\"L\")\n",
    "plt.imshow(img, cmap='Greys')"
   ]
  },
  {
   "cell_type": "markdown",
   "id": "d9b82dae",
   "metadata": {},
   "source": [
    "---\n",
    "### def shear_step():\n",
    "\n",
    "#### Physical Interpretation:\n",
    "\n",
    "This shear step mimics a mechanical force acting on the material, where part of the grid is displaced horizontally or vertically.\n",
    "\n",
    "- Horizontal shear shifts atoms to the right (above the line) simulating physical displacement in a real material.\n",
    "\n",
    "\n",
    "- Vertical shear shifts atoms up (right of the line) which also represents mechanical displacement.\n",
    "\n",
    "It can be set to \"horizontal\" or \"vertical\" or \"both\" if the deformation should be idealized shear or if there should be some other component.\n",
    "This can simulate mechanical intermixing in alloys or composite materials, where (severe) plastic flow might cause atoms to mix through simple shear displacements.\n",
    "\n",
    "The probability of a shear step is coupled with the number A and B atoms along the shear plane.\n",
    "\n",
    "- Many \"hard / high strength\" atoms / fields result in a lower shear probability.\n",
    "\n",
    "\n",
    "- Many \"soft / low strength\" atoms result in an increased shear probability.\n",
    "\n",
    "This addition can simulate deformation localization that is ofter observed in composite materials with rather large strength differences, i.e. hard-soft composites. The shear probability is implemented using a while loop. The deformation is forced externally and has to be performed in order to conform to a certain strain rate.\n",
    "\n",
    "---"
   ]
  },
  {
   "cell_type": "code",
   "execution_count": 9,
   "id": "1b2c8bf2",
   "metadata": {},
   "outputs": [],
   "source": [
    "def shear_step(metal_grid, shear_type, strength_A, strength_B, shear_counts_horizontal, shear_counts_vertical, max_attempts):\n",
    "    \"\"\"\n",
    "    Performs a shear step on a grid with probability weighted by the cumulative strength of atoms along the shear line.\n",
    "    The lower the total strength, the higher the probability for the shear step to occur.\n",
    "    \n",
    "    Parameters:\n",
    "    - metal_grid                 : 2D numpy array, the grid of atoms.\n",
    "    - shear_type                 : str, specifies the type of shear to apply:\n",
    "                                    - 0 for horizontal shear only\n",
    "                                    - 1 for vertical shear only\n",
    "                                    - 2 for randomly selecting between horizontal and vertical (default).\n",
    "    - strength_A                 : float, \"flow strength\" or \"Hardness\" of atom type A.\n",
    "    - strength_B                 : float, \"flow strength\" of \"Hardness\" atom type B.\n",
    "    - shear_counts_horizontal    : np.array, for saving the locations where shear steps were already performed\n",
    "    - shear_counts_vertical      : np.array, for saving the locations where shear steps were already performed\n",
    "    - max_attempts               : int, maximum number of iterations until which shear is enforced, avoid while loop for compiling.\n",
    "    \n",
    "    Returns:\n",
    "    - None\n",
    "    \"\"\"\n",
    "    \n",
    "    grid_size_x, grid_size_y = metal_grid.shape\n",
    "\n",
    "    # Determine shear direction (shear_type: 0 → horizontal, 1 → vertical, both → vertical)\n",
    "    if shear_type == 2:\n",
    "        horizontal_shear = np.random.rand() < 0.5  # 50% chance of horizontal shear\n",
    "    else:\n",
    "        horizontal_shear = shear_type == 0\n",
    "\n",
    "\n",
    "    # Compute max strength once to avoid redundant calculations\n",
    "    # Precompute strength for each row & column (vectorized)\n",
    "    # strength_grid = (metal_grid == 0) * strength_A + (metal_grid == 1) * strength_B\n",
    "    # row_strengths = np.sum(strength_grid, axis=1)  # Sum over columns (horizontal shear)\n",
    "    # col_strengths = np.sum(strength_grid, axis=0)  # Sum over rows (vertical shear)\n",
    "\n",
    "    # Maximum column / row strength normalization factor\n",
    "    max_strength = 2 * max(strength_A, strength_B) * (grid_size_y if horizontal_shear else grid_size_x)\n",
    "    \n",
    "    # We must enforce a successful shear step - Therefore we track if shear has already been successful\n",
    "    attempts = 0\n",
    "\n",
    "    for _ in range(max_attempts):\n",
    "        \n",
    "        if horizontal_shear:\n",
    "            # Select a random row\n",
    "            line = np.random.randint(0, grid_size_x)\n",
    "            print(f\"Horizontal shear attempted in line {line}\")\n",
    "            \n",
    "            # Compute cumulative strength (current + above row)\n",
    "            cumulative_strength = np.sum((metal_grid[line, :] == 0) * strength_A + (metal_grid[line, :] == 1) * strength_B) + \\\n",
    "                                  np.sum((metal_grid[(line - 1) % grid_size_x, :] == 0) * strength_A + (metal_grid[(line - 1) % grid_size_x, :] == 1) * strength_B)\n",
    "            \n",
    "            # Compute shear probability\n",
    "            shear_probability = 1.0 - (cumulative_strength / max_strength)\n",
    "            print(f\"Cumulative strength is {cumulative_strength:.1f} and the shear probabiliy therefore {shear_probability:.1f}\")\n",
    "            \n",
    "            # Perform shear step if probability condition is met - Enforce a shear step after a max. number of attempts\n",
    "            if np.random.rand() < shear_probability or _ == max_attempts - 1:\n",
    "                print(f\"Horizontal shear successful at line {line}!\")\n",
    "                last_col = metal_grid[:line, -1].copy()  # Store last column\n",
    "                metal_grid[:line, 1:] = metal_grid[:line, :-1]  # Shift right\n",
    "                metal_grid[:line, 0] = last_col  # Wrap-around\n",
    "                \n",
    "                shear_counts_horizontal[line] += 1  \n",
    "                return line\n",
    "\n",
    "        else:\n",
    "            # Select a random column\n",
    "            line = np.random.randint(0, grid_size_y)\n",
    "            print(f\"Vertical shear attempted in line {line}\")\n",
    "            \n",
    "            # Compute cumulative strength (current + left column)\n",
    "            cumulative_strength = np.sum((metal_grid[:, line] == 0) * strength_A + (metal_grid[:, line] == 1) * strength_B) + \\\n",
    "                                  np.sum((metal_grid[:, (line - 1) % grid_size_y] == 0) * strength_A + (metal_grid[:, (line - 1) % grid_size_y] == 1) * strength_B)\n",
    "                                  \n",
    "            # Compute shear probability\n",
    "            shear_probability = 1.0 - (cumulative_strength / max_strength)\n",
    "            print(f\"Cumulative strength is {cumulative_strength:.1f} and the shear probabiliy therefore {shear_probability:.1f}\")\n",
    "\n",
    "            # Perform shear step if probability condition is met - Enforce a shear step after a max. number of attempts\n",
    "            if np.random.rand() < shear_probability or attempts == max_attempts - 1:\n",
    "                print(f\"Vertical shear successful at line {line}!\")\n",
    "                \n",
    "                # Shift all columns left of the selected line downward\n",
    "                last_row = metal_grid[-1, :line].copy()  # Store last row\n",
    "                metal_grid[1:, :line] = metal_grid[:-1, :line]  # Shift down\n",
    "                metal_grid[0, :line] = last_row  # Wrap-around\n",
    "                \n",
    "                shear_counts_vertical[line] += 1  \n",
    "                return line\n"
   ]
  },
  {
   "cell_type": "markdown",
   "id": "98980407",
   "metadata": {},
   "source": [
    "#### Demonstration"
   ]
  },
  {
   "cell_type": "code",
   "execution_count": 10,
   "id": "3f1c1aa2",
   "metadata": {},
   "outputs": [],
   "source": [
    "# If you want to start a new simulation you can re-initialize the grid here\n",
    "grid_size = 10\n",
    "metal_grid = initialize_metal_grid(grid_size)"
   ]
  },
  {
   "cell_type": "code",
   "execution_count": 11,
   "id": "e1723db8",
   "metadata": {},
   "outputs": [
    {
     "name": "stdout",
     "output_type": "stream",
     "text": [
      "[[0 0 0 0 0 1 1 1 1 1]\n",
      " [0 0 0 0 0 1 1 1 1 1]\n",
      " [0 0 0 0 0 1 1 1 1 1]\n",
      " [0 0 0 0 0 1 1 1 1 1]\n",
      " [0 0 0 0 0 1 1 1 1 1]\n",
      " [1 1 1 1 1 0 0 0 0 0]\n",
      " [1 1 1 1 1 0 0 0 0 0]\n",
      " [1 1 1 1 1 0 0 0 0 0]\n",
      " [1 1 1 1 1 0 0 0 0 0]\n",
      " [1 1 1 1 1 0 0 0 0 0]]\n",
      "Size of the grid: 100\n"
     ]
    },
    {
     "data": {
      "text/plain": [
       "<matplotlib.image.AxesImage at 0x1c41ed4d400>"
      ]
     },
     "execution_count": 11,
     "metadata": {},
     "output_type": "execute_result"
    },
    {
     "data": {
      "image/png": "[encoded data removed]",
      "text/plain": [
       "<Figure size 432x288 with 1 Axes>"
      ]
     },
     "metadata": {
      "needs_background": "light"
     },
     "output_type": "display_data"
    }
   ],
   "source": [
    "print(metal_grid)\n",
    "print(f\"Size of the grid: {metal_grid.size}\")\n",
    "plt.imshow(metal_grid)"
   ]
  },
  {
   "cell_type": "code",
   "execution_count": 12,
   "id": "c2ce5916",
   "metadata": {},
   "outputs": [
    {
     "name": "stdout",
     "output_type": "stream",
     "text": [
      "Horizontal shear attempted in line 6\n",
      "Cumulative strength is 12.0 and the shear probabiliy therefore 0.4\n",
      "Horizontal shear attempted in line 6\n",
      "Cumulative strength is 12.0 and the shear probabiliy therefore 0.4\n",
      "Horizontal shear attempted in line 1\n",
      "Cumulative strength is 12.0 and the shear probabiliy therefore 0.4\n",
      "Horizontal shear successful at line 1!\n",
      "[[1 0 0 0 0 0 1 1 1 1]\n",
      " [0 0 0 0 0 1 1 1 1 1]\n",
      " [0 0 0 0 0 1 1 1 1 1]\n",
      " [0 0 0 0 0 1 1 1 1 1]\n",
      " [0 0 0 0 0 1 1 1 1 1]\n",
      " [1 1 1 1 1 0 0 0 0 0]\n",
      " [1 1 1 1 1 0 0 0 0 0]\n",
      " [1 1 1 1 1 0 0 0 0 0]\n",
      " [1 1 1 1 1 0 0 0 0 0]\n",
      " [1 1 1 1 1 0 0 0 0 0]]\n"
     ]
    },
    {
     "data": {
      "text/plain": [
       "[<matplotlib.lines.Line2D at 0x1c41eda3970>]"
      ]
     },
     "execution_count": 12,
     "metadata": {},
     "output_type": "execute_result"
    },
    {
     "data": {
      "image/png": "[encoded data removed]",
      "text/plain": [
       "<Figure size 432x288 with 1 Axes>"
      ]
     },
     "metadata": {
      "needs_background": "light"
     },
     "output_type": "display_data"
    }
   ],
   "source": [
    "shear_counts_horizontal = np.zeros(grid_size, dtype=np.int64)\n",
    "shear_counts_vertical   = np.zeros(grid_size, dtype=np.int64)\n",
    "\n",
    "shear_line = shear_step(metal_grid              = metal_grid,\n",
    "                        shear_counts_horizontal = shear_counts_horizontal,\n",
    "                        shear_counts_vertical   = shear_counts_vertical, \n",
    "                        shear_type              = 0,\n",
    "                        strength_A              = 1,\n",
    "                        strength_B              = 0.2,\n",
    "                        max_attempts            = 100)\n",
    "print(metal_grid)\n",
    "plt.imshow(metal_grid)\n",
    "plt.plot( [0, metal_grid.shape[1]-1], [shear_line, shear_line], \"-\")"
   ]
  },
  {
   "cell_type": "code",
   "execution_count": 13,
   "id": "1f67e102",
   "metadata": {},
   "outputs": [
    {
     "name": "stdout",
     "output_type": "stream",
     "text": [
      "Horizontal shear attempted in line 2\n",
      "Cumulative strength is 12.0 and the shear probabiliy therefore 0.4\n",
      "Horizontal shear successful at line 2!\n",
      "Step 0\n",
      "[[1 1 0 0 0 0 0 1 1 1]\n",
      " [1 0 0 0 0 0 1 1 1 1]\n",
      " [0 0 0 0 0 1 1 1 1 1]\n",
      " [0 0 0 0 0 1 1 1 1 1]\n",
      " [0 0 0 0 0 1 1 1 1 1]\n",
      " [1 1 1 1 1 0 0 0 0 0]\n",
      " [1 1 1 1 1 0 0 0 0 0]\n",
      " [1 1 1 1 1 0 0 0 0 0]\n",
      " [1 1 1 1 1 0 0 0 0 0]\n",
      " [1 1 1 1 1 0 0 0 0 0]]\n"
     ]
    },
    {
     "data": {
      "image/png": "[encoded data removed]",
      "text/plain": [
       "<Figure size 432x288 with 1 Axes>"
      ]
     },
     "metadata": {
      "needs_background": "light"
     },
     "output_type": "display_data"
    },
    {
     "name": "stdout",
     "output_type": "stream",
     "text": [
      "Horizontal shear attempted in line 3\n",
      "Cumulative strength is 12.0 and the shear probabiliy therefore 0.4\n",
      "Horizontal shear successful at line 3!\n",
      "Step 1\n",
      "[[1 1 1 0 0 0 0 0 1 1]\n",
      " [1 1 0 0 0 0 0 1 1 1]\n",
      " [1 0 0 0 0 0 1 1 1 1]\n",
      " [0 0 0 0 0 1 1 1 1 1]\n",
      " [0 0 0 0 0 1 1 1 1 1]\n",
      " [1 1 1 1 1 0 0 0 0 0]\n",
      " [1 1 1 1 1 0 0 0 0 0]\n",
      " [1 1 1 1 1 0 0 0 0 0]\n",
      " [1 1 1 1 1 0 0 0 0 0]\n",
      " [1 1 1 1 1 0 0 0 0 0]]\n"
     ]
    },
    {
     "data": {
      "image/png": "[encoded data removed]",
      "text/plain": [
       "<Figure size 432x288 with 1 Axes>"
      ]
     },
     "metadata": {
      "needs_background": "light"
     },
     "output_type": "display_data"
    },
    {
     "name": "stdout",
     "output_type": "stream",
     "text": [
      "Horizontal shear attempted in line 4\n",
      "Cumulative strength is 12.0 and the shear probabiliy therefore 0.4\n",
      "Horizontal shear successful at line 4!\n",
      "Step 2\n",
      "[[1 1 1 1 0 0 0 0 0 1]\n",
      " [1 1 1 0 0 0 0 0 1 1]\n",
      " [1 1 0 0 0 0 0 1 1 1]\n",
      " [1 0 0 0 0 0 1 1 1 1]\n",
      " [0 0 0 0 0 1 1 1 1 1]\n",
      " [1 1 1 1 1 0 0 0 0 0]\n",
      " [1 1 1 1 1 0 0 0 0 0]\n",
      " [1 1 1 1 1 0 0 0 0 0]\n",
      " [1 1 1 1 1 0 0 0 0 0]\n",
      " [1 1 1 1 1 0 0 0 0 0]]\n"
     ]
    },
    {
     "data": {
      "image/png": "[encoded data removed]",
      "text/plain": [
       "<Figure size 432x288 with 1 Axes>"
      ]
     },
     "metadata": {
      "needs_background": "light"
     },
     "output_type": "display_data"
    },
    {
     "name": "stdout",
     "output_type": "stream",
     "text": [
      "Horizontal shear attempted in line 5\n",
      "Cumulative strength is 12.0 and the shear probabiliy therefore 0.4\n",
      "Horizontal shear successful at line 5!\n",
      "Step 3\n",
      "[[1 1 1 1 1 0 0 0 0 0]\n",
      " [1 1 1 1 0 0 0 0 0 1]\n",
      " [1 1 1 0 0 0 0 0 1 1]\n",
      " [1 1 0 0 0 0 0 1 1 1]\n",
      " [1 0 0 0 0 0 1 1 1 1]\n",
      " [1 1 1 1 1 0 0 0 0 0]\n",
      " [1 1 1 1 1 0 0 0 0 0]\n",
      " [1 1 1 1 1 0 0 0 0 0]\n",
      " [1 1 1 1 1 0 0 0 0 0]\n",
      " [1 1 1 1 1 0 0 0 0 0]]\n"
     ]
    },
    {
     "data": {
      "image/png": "[encoded data removed]",
      "text/plain": [
       "<Figure size 432x288 with 1 Axes>"
      ]
     },
     "metadata": {
      "needs_background": "light"
     },
     "output_type": "display_data"
    },
    {
     "name": "stdout",
     "output_type": "stream",
     "text": [
      "Horizontal shear attempted in line 9\n",
      "Cumulative strength is 12.0 and the shear probabiliy therefore 0.4\n",
      "Horizontal shear attempted in line 7\n",
      "Cumulative strength is 12.0 and the shear probabiliy therefore 0.4\n",
      "Horizontal shear successful at line 7!\n",
      "Step 4\n",
      "[[0 1 1 1 1 1 0 0 0 0]\n",
      " [1 1 1 1 1 0 0 0 0 0]\n",
      " [1 1 1 1 0 0 0 0 0 1]\n",
      " [1 1 1 0 0 0 0 0 1 1]\n",
      " [1 1 0 0 0 0 0 1 1 1]\n",
      " [0 1 1 1 1 1 0 0 0 0]\n",
      " [0 1 1 1 1 1 0 0 0 0]\n",
      " [1 1 1 1 1 0 0 0 0 0]\n",
      " [1 1 1 1 1 0 0 0 0 0]\n",
      " [1 1 1 1 1 0 0 0 0 0]]\n"
     ]
    },
    {
     "data": {
      "image/png": "[encoded data removed]",
      "text/plain": [
       "<Figure size 432x288 with 1 Axes>"
      ]
     },
     "metadata": {
      "needs_background": "light"
     },
     "output_type": "display_data"
    },
    {
     "name": "stdout",
     "output_type": "stream",
     "text": [
      "Horizontal shear attempted in line 1\n",
      "Cumulative strength is 12.0 and the shear probabiliy therefore 0.4\n",
      "Horizontal shear successful at line 1!\n",
      "Step 5\n",
      "[[0 0 1 1 1 1 1 0 0 0]\n",
      " [1 1 1 1 1 0 0 0 0 0]\n",
      " [1 1 1 1 0 0 0 0 0 1]\n",
      " [1 1 1 0 0 0 0 0 1 1]\n",
      " [1 1 0 0 0 0 0 1 1 1]\n",
      " [0 1 1 1 1 1 0 0 0 0]\n",
      " [0 1 1 1 1 1 0 0 0 0]\n",
      " [1 1 1 1 1 0 0 0 0 0]\n",
      " [1 1 1 1 1 0 0 0 0 0]\n",
      " [1 1 1 1 1 0 0 0 0 0]]\n"
     ]
    },
    {
     "data": {
      "image/png": "[encoded data removed]",
      "text/plain": [
       "<Figure size 432x288 with 1 Axes>"
      ]
     },
     "metadata": {
      "needs_background": "light"
     },
     "output_type": "display_data"
    },
    {
     "name": "stdout",
     "output_type": "stream",
     "text": [
      "Horizontal shear attempted in line 4\n",
      "Cumulative strength is 12.0 and the shear probabiliy therefore 0.4\n",
      "Horizontal shear successful at line 4!\n",
      "Step 6\n",
      "[[0 0 0 1 1 1 1 1 0 0]\n",
      " [0 1 1 1 1 1 0 0 0 0]\n",
      " [1 1 1 1 1 0 0 0 0 0]\n",
      " [1 1 1 1 0 0 0 0 0 1]\n",
      " [1 1 0 0 0 0 0 1 1 1]\n",
      " [0 1 1 1 1 1 0 0 0 0]\n",
      " [0 1 1 1 1 1 0 0 0 0]\n",
      " [1 1 1 1 1 0 0 0 0 0]\n",
      " [1 1 1 1 1 0 0 0 0 0]\n",
      " [1 1 1 1 1 0 0 0 0 0]]\n"
     ]
    },
    {
     "data": {
      "image/png": "[encoded data removed]",
      "text/plain": [
       "<Figure size 432x288 with 1 Axes>"
      ]
     },
     "metadata": {
      "needs_background": "light"
     },
     "output_type": "display_data"
    },
    {
     "name": "stdout",
     "output_type": "stream",
     "text": [
      "Horizontal shear attempted in line 9\n",
      "Cumulative strength is 12.0 and the shear probabiliy therefore 0.4\n",
      "Horizontal shear attempted in line 6\n",
      "Cumulative strength is 12.0 and the shear probabiliy therefore 0.4\n",
      "Horizontal shear successful at line 6!\n",
      "Step 7\n",
      "[[0 0 0 0 1 1 1 1 1 0]\n",
      " [0 0 1 1 1 1 1 0 0 0]\n",
      " [0 1 1 1 1 1 0 0 0 0]\n",
      " [1 1 1 1 1 0 0 0 0 0]\n",
      " [1 1 1 0 0 0 0 0 1 1]\n",
      " [0 0 1 1 1 1 1 0 0 0]\n",
      " [0 1 1 1 1 1 0 0 0 0]\n",
      " [1 1 1 1 1 0 0 0 0 0]\n",
      " [1 1 1 1 1 0 0 0 0 0]\n",
      " [1 1 1 1 1 0 0 0 0 0]]\n"
     ]
    },
    {
     "data": {
      "image/png": "[encoded data removed]",
      "text/plain": [
       "<Figure size 432x288 with 1 Axes>"
      ]
     },
     "metadata": {
      "needs_background": "light"
     },
     "output_type": "display_data"
    },
    {
     "name": "stdout",
     "output_type": "stream",
     "text": [
      "Horizontal shear attempted in line 1\n",
      "Cumulative strength is 12.0 and the shear probabiliy therefore 0.4\n",
      "Horizontal shear attempted in line 4\n",
      "Cumulative strength is 12.0 and the shear probabiliy therefore 0.4\n",
      "Horizontal shear attempted in line 8\n",
      "Cumulative strength is 12.0 and the shear probabiliy therefore 0.4\n",
      "Horizontal shear attempted in line 4\n",
      "Cumulative strength is 12.0 and the shear probabiliy therefore 0.4\n",
      "Horizontal shear attempted in line 0\n",
      "Cumulative strength is 12.0 and the shear probabiliy therefore 0.4\n",
      "Horizontal shear attempted in line 4\n",
      "Cumulative strength is 12.0 and the shear probabiliy therefore 0.4\n",
      "Horizontal shear attempted in line 5\n",
      "Cumulative strength is 12.0 and the shear probabiliy therefore 0.4\n",
      "Horizontal shear attempted in line 1\n",
      "Cumulative strength is 12.0 and the shear probabiliy therefore 0.4\n",
      "Horizontal shear successful at line 1!\n",
      "Step 8\n",
      "[[0 0 0 0 0 1 1 1 1 1]\n",
      " [0 0 1 1 1 1 1 0 0 0]\n",
      " [0 1 1 1 1 1 0 0 0 0]\n",
      " [1 1 1 1 1 0 0 0 0 0]\n",
      " [1 1 1 0 0 0 0 0 1 1]\n",
      " [0 0 1 1 1 1 1 0 0 0]\n",
      " [0 1 1 1 1 1 0 0 0 0]\n",
      " [1 1 1 1 1 0 0 0 0 0]\n",
      " [1 1 1 1 1 0 0 0 0 0]\n",
      " [1 1 1 1 1 0 0 0 0 0]]\n"
     ]
    },
    {
     "data": {
      "image/png": "[encoded data removed]",
      "text/plain": [
       "<Figure size 432x288 with 1 Axes>"
      ]
     },
     "metadata": {
      "needs_background": "light"
     },
     "output_type": "display_data"
    },
    {
     "name": "stdout",
     "output_type": "stream",
     "text": [
      "Horizontal shear attempted in line 9\n",
      "Cumulative strength is 12.0 and the shear probabiliy therefore 0.4\n",
      "Horizontal shear attempted in line 9\n",
      "Cumulative strength is 12.0 and the shear probabiliy therefore 0.4\n",
      "Horizontal shear successful at line 9!\n",
      "Step 9\n",
      "[[1 0 0 0 0 0 1 1 1 1]\n",
      " [0 0 0 1 1 1 1 1 0 0]\n",
      " [0 0 1 1 1 1 1 0 0 0]\n",
      " [0 1 1 1 1 1 0 0 0 0]\n",
      " [1 1 1 1 0 0 0 0 0 1]\n",
      " [0 0 0 1 1 1 1 1 0 0]\n",
      " [0 0 1 1 1 1 1 0 0 0]\n",
      " [0 1 1 1 1 1 0 0 0 0]\n",
      " [0 1 1 1 1 1 0 0 0 0]\n",
      " [1 1 1 1 1 0 0 0 0 0]]\n"
     ]
    },
    {
     "data": {
      "image/png": "[encoded data removed]",
      "text/plain": [
       "<Figure size 432x288 with 1 Axes>"
      ]
     },
     "metadata": {
      "needs_background": "light"
     },
     "output_type": "display_data"
    }
   ],
   "source": [
    "for i in range(10):\n",
    "    shear_line = shear_step(metal_grid              = metal_grid,\n",
    "                        shear_counts_horizontal = shear_counts_horizontal,\n",
    "                        shear_counts_vertical   = shear_counts_vertical, \n",
    "                        shear_type              = 0,\n",
    "                        strength_A              = 1,\n",
    "                        strength_B              = 0.2,\n",
    "                        max_attempts            = 100)\n",
    "    \n",
    "    print(f\"Step {i}\")\n",
    "    print(metal_grid)\n",
    "    #print(f\"Size of the grid: {grid.size}\")\n",
    "    plt.figure()\n",
    "    plt.imshow(metal_grid)\n",
    "    plt.plot( [0, metal_grid.shape[1]-1], [shear_line, shear_line], \"-\")\n",
    "    plt.show()"
   ]
  },
  {
   "cell_type": "markdown",
   "id": "d2ae582d",
   "metadata": {},
   "source": [
    "---\n",
    "### def calculate_metal_metal_interaction_energy(x, y, grid, E_same, E_diff):\n",
    "\n",
    "#### Physical Interpretation:\n",
    "\n",
    "Calculation of the interaction energy of an atom with its 4 surrounding atoms. This function is essential for calculating the energy in the diffusion step, i.e., if such a step is energetically favorable or or not.\n",
    "    \n",
    "---"
   ]
  },
  {
   "cell_type": "code",
   "execution_count": 14,
   "id": "9214ae2a",
   "metadata": {},
   "outputs": [],
   "source": [
    "# Function to calculate local energy around a site (x, y), considering periodic boundary conditions\n",
    "def calculate_metal_metal_interaction_energy(x, y, metal_grid, E_AA, E_BB, E_AB):\n",
    "    \"\"\"\n",
    "    The energy is calculated based on the type of the neighboring atom:\n",
    "    If the neighboring atom is the same type as the current atom, the corresponding interaction energy (E_AA or E_BB) is added.\n",
    "    If the neighboring atom is a different type, the E_AB interaction energy is added.\n",
    "    \n",
    "    Parameters\n",
    "    - x               : int, x-position of site where to calculate the energy.\n",
    "    - y               : int, y-position of site where to calculate the energy.\n",
    "    - metal_grid      : np.array, 2D array representing the atom positions (0 for A, 1 for B).\n",
    "    - E_AA            : float, interaction energy between A-A atoms.\n",
    "    - E_BB            : float, interaction energy between B-B atoms.\n",
    "    - E_AB            : float, interaction energy between A-B atoms.\n",
    "    \n",
    "    Returns:\n",
    "    - energy          : float, interaction energy derived from site (x, y).\n",
    "    \"\"\"\n",
    "    energy = 0\n",
    "    atom = metal_grid[x, y]  # Atom type at the target site (0 for A, 1 for B)\n",
    "    \n",
    "    # Define neighbors (up, down, left, right)\n",
    "    neighbors = [(x - 1, y), (x + 1, y), (x, y - 1), (x, y + 1)]\n",
    "    \n",
    "    for nx, ny in neighbors:\n",
    "        # Apply periodic boundary conditions to neighbors\n",
    "        nx = nx % metal_grid.shape[0]  # Wrap around the x-coordinate\n",
    "        ny = ny % metal_grid.shape[1]  # Wrap around the y-coordinate\n",
    "        \n",
    "        # Get the neighboring atom after applying periodic boundary conditions\n",
    "        neighbor_atom = metal_grid[nx, ny]\n",
    "        \n",
    "        # Calculate the energy contribution based on the interaction type\n",
    "        if atom == 0 and neighbor_atom == 0:  # A-A interaction\n",
    "            energy += E_AA\n",
    "        elif atom == 1 and neighbor_atom == 1:  # B-B interaction\n",
    "            energy += E_BB\n",
    "        else:  # A-B or B-A interaction\n",
    "            energy += E_AB\n",
    "    \n",
    "    return energy"
   ]
  },
  {
   "cell_type": "markdown",
   "id": "48fb43ed",
   "metadata": {},
   "source": [
    "#### Demonstration"
   ]
  },
  {
   "cell_type": "code",
   "execution_count": 15,
   "id": "cf2cc64d",
   "metadata": {},
   "outputs": [
    {
     "name": "stdout",
     "output_type": "stream",
     "text": [
      "[[0 0 0 0 0 1 1 1 1 1]\n",
      " [0 0 0 0 0 1 1 1 1 1]\n",
      " [0 0 0 0 0 1 1 1 1 1]\n",
      " [0 0 0 0 0 1 1 1 1 1]\n",
      " [0 0 0 0 0 1 1 1 1 1]\n",
      " [1 1 1 1 1 0 0 0 0 0]\n",
      " [1 1 1 1 1 0 0 0 0 0]\n",
      " [1 1 1 1 1 0 0 0 0 0]\n",
      " [1 1 1 1 1 0 0 0 0 0]\n",
      " [1 1 1 1 1 0 0 0 0 0]]\n"
     ]
    }
   ],
   "source": [
    "# If you want to start a new simulation you can re-initialize the grid here\n",
    "grid_size = 10\n",
    "metal_grid = initialize_metal_grid(grid_size)\n",
    "\n",
    "\n",
    "print(metal_grid)"
   ]
  },
  {
   "cell_type": "code",
   "execution_count": 16,
   "id": "d1a2f814",
   "metadata": {},
   "outputs": [
    {
     "data": {
      "text/plain": [
       "-3"
      ]
     },
     "execution_count": 16,
     "metadata": {},
     "output_type": "execute_result"
    }
   ],
   "source": [
    "E_AA, E_BB, E_AB = -1, -2, 3\n",
    "\n",
    "calculate_metal_metal_interaction_energy(2, 5, metal_grid, E_AA, E_BB, E_AB)"
   ]
  },
  {
   "cell_type": "markdown",
   "id": "ba5a2e56",
   "metadata": {},
   "source": [
    "---\n",
    "### def calculate_total_metal_metal_interaction_energy(grid, E_same, E_diff):\n",
    "\n",
    "Physical Interpretation:\n",
    "\n",
    "This function calculates the total interaction energy of the grid, ensuring that each pair of interacting atoms contributes to the energy only once and that interactions across grid boundaries are correctly accounted for using periodic boundary conditions.\n",
    "\n",
    "---"
   ]
  },
  {
   "cell_type": "code",
   "execution_count": 17,
   "id": "aee63b42",
   "metadata": {},
   "outputs": [],
   "source": [
    "# Function to calculate total energy of the grid, considering periodic boundary conditions\n",
    "def calculate_total_metal_metal_interaction_energy(metal_grid, E_AA, E_BB, E_AB):\n",
    "    \"\"\"\n",
    "    Vectorized calculation of the total energy of the grid, \n",
    "    considering interactions with right and down neighbors only.\n",
    "    \n",
    "    Parameters:\n",
    "    - metal_grid         : np.array, 2D array representing the atom positions (0 for A, 1 for B).\n",
    "    - E_AA               : float, interaction energy between A-A atoms.\n",
    "    - E_BB               : float, interaction energy between B-B atoms.\n",
    "    - E_AB               : float, interaction energy between A-B atoms.\n",
    "    \n",
    "    Returns:\n",
    "    - total_energy       : float, interaction energy summed up over the whole grid.\n",
    "    \"\"\"\n",
    "    # Shifted grids for right and down neighbors, with periodic boundaries\n",
    "    right_neighbors = np.roll(metal_grid, shift=-1, axis=1)  # Right neighbors\n",
    "    down_neighbors = np.roll(metal_grid, shift=-1, axis=0)   # Down neighbors\n",
    "\n",
    "    # Calculate interactions for right neighbors\n",
    "    interaction_AA_right = (metal_grid == 0) & (right_neighbors == 0)  # A-A interactions\n",
    "    interaction_BB_right = (metal_grid == 1) & (right_neighbors == 1)  # B-B interactions\n",
    "    interaction_AB_right = (metal_grid != right_neighbors)             # A-B interactions\n",
    "\n",
    "    # Calculate interactions for down neighbors\n",
    "    interaction_AA_down = (metal_grid == 0) & (down_neighbors == 0)    # A-A interactions\n",
    "    interaction_BB_down = (metal_grid == 1) & (down_neighbors == 1)    # B-B interactions\n",
    "    interaction_AB_down = (metal_grid != down_neighbors)               # A-B interactions\n",
    "\n",
    "    # Total energy contributions\n",
    "    total_energy_right = (\n",
    "        np.sum(interaction_AA_right) * E_AA +\n",
    "        np.sum(interaction_BB_right) * E_BB +\n",
    "        np.sum(interaction_AB_right) * E_AB\n",
    "    )\n",
    "\n",
    "    total_energy_down = (\n",
    "        np.sum(interaction_AA_down) * E_AA +\n",
    "        np.sum(interaction_BB_down) * E_BB +\n",
    "        np.sum(interaction_AB_down) * E_AB\n",
    "    )\n",
    "\n",
    "    # Sum total energy contributions\n",
    "    total_energy = total_energy_right + total_energy_down\n",
    "\n",
    "    return total_energy"
   ]
  },
  {
   "cell_type": "markdown",
   "id": "0b4682f5",
   "metadata": {},
   "source": [
    "#### Demonstration"
   ]
  },
  {
   "cell_type": "code",
   "execution_count": 18,
   "id": "aef2d6cc",
   "metadata": {},
   "outputs": [
    {
     "name": "stdout",
     "output_type": "stream",
     "text": [
      "[[0 0 1 1]\n",
      " [0 0 1 1]\n",
      " [1 1 0 0]\n",
      " [1 1 0 0]]\n"
     ]
    }
   ],
   "source": [
    "# If you want to start a new simulation you can re-initialize the grid here\n",
    "grid_size = 4\n",
    "metal_grid = initialize_metal_grid(grid_size)\n",
    "\n",
    "print(metal_grid)"
   ]
  },
  {
   "cell_type": "code",
   "execution_count": 19,
   "id": "4c155a26",
   "metadata": {},
   "outputs": [
    {
     "data": {
      "text/plain": [
       "27.2"
      ]
     },
     "execution_count": 19,
     "metadata": {},
     "output_type": "execute_result"
    }
   ],
   "source": [
    "calculate_total_metal_metal_interaction_energy(metal_grid, E_AA=-0.1, E_BB=-0.5, E_AB=2)"
   ]
  },
  {
   "cell_type": "markdown",
   "id": "2bf022bf",
   "metadata": {},
   "source": [
    "#### Demonstration+ - Physical interpretation of energy input and output values."
   ]
  },
  {
   "cell_type": "code",
   "execution_count": 20,
   "id": "4ff8ba85",
   "metadata": {},
   "outputs": [
    {
     "name": "stdout",
     "output_type": "stream",
     "text": [
      "[[0 1]\n",
      " [1 0]]\n"
     ]
    }
   ],
   "source": [
    "# If you want to start a new simulation you can re-initialize the grid here\n",
    "grid_size = 2\n",
    "metal_grid = initialize_metal_grid(grid_size)\n",
    "\n",
    "\n",
    "print(metal_grid)"
   ]
  },
  {
   "cell_type": "code",
   "execution_count": 21,
   "id": "1b5f60ad",
   "metadata": {},
   "outputs": [
    {
     "data": {
      "text/plain": [
       "4.0"
      ]
     },
     "execution_count": 21,
     "metadata": {},
     "output_type": "execute_result"
    }
   ],
   "source": [
    "# This is the mixing enthalpy that is used as an input for the MC simulation.\n",
    "# It represent the energy that is gained by an atom if completely dissolved in a solid solution, i.e., if an/every A atoms is surrounded by 4 B atoms.\n",
    "dHmix = 4\n",
    "\n",
    "# Therefore the enthalpy has to be normalized to the number of potential bonds, i.e., 4.\n",
    "# Because every bond counts for the energy of 2 atoms, a factor of 2 has to be added here.\n",
    "dHmix_bond = 2 * 4/4\n",
    "\n",
    "# We sum up over all bonds. By the current method, double counting bond is omitted, i.e., we sum up over 8 (not 4*4=16) bond in a 2x2 grid.\n",
    "Total_energy_out = calculate_total_metal_metal_interaction_energy(metal_grid, E_AA=0, E_BB=0, E_AB=dHmix_bond) #\n",
    "\n",
    "dHmix_out = Total_energy_out / metal_grid.size\n",
    "dHmix_out"
   ]
  },
  {
   "cell_type": "markdown",
   "id": "e1f0b97b",
   "metadata": {},
   "source": [
    "---\n",
    "### def metal_diffusion_step(grid, kT, E_same, E_diff):\n",
    "\n",
    "#### Physical Interpretation:\n",
    "\n",
    "This Monte Carlo diffusion step models atom movement on the grid based on energy considerations.\n",
    "\n",
    "Atoms attempt to move (swap) with their neighbors, and the system only accepts moves that lead to a lower energy or those that are energetically unfavorable but are allowed with some probability (depending on temperature).\n",
    "\n",
    "This step mimics diffusion processes in real materials, where atoms move in response to local energy differences, but thermal fluctuations (controlled by kT) also allow atoms to occasionally move to higher-energy positions.\n",
    "\n",
    "Over many MC steps, this process leads to the gradual evolution of the system toward thermodynamic equilibrium, where the distribution of atoms tends to minimize the overall energy.\n",
    "\n",
    "This MC simulation uses the metropolis algorithm. Step lowering the energy are always accepted, steps increasing the energy are accepted with a certain probability depending on the energy difference and kT.\n",
    "https://de.wikipedia.org/wiki/Metropolis-Algorithmus\n",
    "    \n",
    "---"
   ]
  },
  {
   "cell_type": "code",
   "execution_count": 22,
   "id": "67b04234",
   "metadata": {},
   "outputs": [],
   "source": [
    "def metal_diffusion_step(metal_grid, kT, E_AA, E_BB, E_AB, grid_size):\n",
    "    \"\"\"\n",
    "    Perform a single MC step by trying to swap two neighboring atoms\n",
    "    This defines a function called metal_diffusion_step(), which takes\n",
    "    four arguments:\n",
    "\n",
    "    Parameters:\n",
    "    - metal_grid               : np.array, 2D array representing the atom positions (either A or B).\n",
    "    - kT                 : float, thermal energy factor (k is the Boltzmann constant, T is temperature). It controls how likely energetically unfavorable moves are accepted (higher temperatures allow more such moves).\n",
    "    - E_AA               : float, interaction energy between A-A atoms.\n",
    "    - E_BB               : float, interaction energy between B-B atoms.\n",
    "    - E_AB               : float, interaction energy between A-B atoms.\n",
    "    \n",
    "    Returns:\n",
    "    - accept             : True if the MC step was accepted\n",
    "    \"\"\"\n",
    "\n",
    "    # Choose a random position on the metal_grid\n",
    "    x, y = np.random.randint(0, grid_size), np.random.randint(0, grid_size)\n",
    "\n",
    "    # Select a random neighbor (up, down, left, right)\n",
    "    direction = np.random.randint(0, 4)\n",
    "    if direction == 0: nx, ny = (x - 1) % grid_size, y  # Up\n",
    "    elif direction == 1: nx, ny = (x + 1) % grid_size, y  # Down\n",
    "    elif direction == 2: nx, ny = x, (y - 1) % grid_size  # Left\n",
    "    else: nx, ny = x, (y + 1) % grid_size  # Right\n",
    "\n",
    "    if metal_grid[x, y] == metal_grid[nx, ny]:\n",
    "        print(\"Successful self-diffusion - No changes expected!\")\n",
    "        return True, x, y, nx, ny # x, y, nx, ny - Returns this only in Tutorial\n",
    "\n",
    "    # Calculate the initial energy before swap\n",
    "    initial_energy = calculate_metal_metal_interaction_energy(x ,  y, metal_grid, E_AA, E_BB, E_AB) + \\\n",
    "                     calculate_metal_metal_interaction_energy(nx, ny, metal_grid, E_AA, E_BB, E_AB)\n",
    "    \n",
    "    # Swap atoms\n",
    "    metal_grid[x, y], metal_grid[nx, ny] = metal_grid[nx, ny], metal_grid[x, y]\n",
    "    \n",
    "    # Calculate the new energy after swap\n",
    "    final_energy = calculate_metal_metal_interaction_energy(x ,  y, metal_grid, E_AA, E_BB, E_AB) + \\\n",
    "                   calculate_metal_metal_interaction_energy(nx, ny, metal_grid, E_AA, E_BB, E_AB)\n",
    "    \n",
    "    # Calculate the change in energy\n",
    "    delta_E = final_energy - initial_energy\n",
    "    \n",
    "    print(f\"Trying to swap positions ({x},{y}) with ({nx},{ny}) - The change in energy is {delta_E}\")\n",
    "    \n",
    "    accept = True\n",
    "    # Metropolis criterion: accept swap with probability exp(-delta_E / kT)\n",
    "    if delta_E > 0 and np.exp(-delta_E / kT) < np.random.rand():\n",
    "        # Reject the swap (reverse it)\n",
    "        metal_grid[x, y], metal_grid[nx, ny] = metal_grid[nx, ny], metal_grid[x, y]\n",
    "        accept = False\n",
    "        \n",
    "    if accept == True:\n",
    "        print(\"Jump accepted!\")\n",
    "    else:\n",
    "        print(\"Jump rejected!\")\n",
    "        \n",
    "    return accept, x, y, nx, ny # x, y, nx, ny - Returns this only in Tutorial"
   ]
  },
  {
   "cell_type": "markdown",
   "id": "6dc82b47",
   "metadata": {},
   "source": [
    "#### Demonstration"
   ]
  },
  {
   "cell_type": "code",
   "execution_count": 23,
   "id": "049f0ba5",
   "metadata": {},
   "outputs": [
    {
     "name": "stdout",
     "output_type": "stream",
     "text": [
      "[[0 0 0 0 0 1 1 1 1 1]\n",
      " [0 0 0 0 0 1 1 1 1 1]\n",
      " [0 0 0 0 0 1 1 1 1 1]\n",
      " [0 0 0 0 0 1 1 1 1 1]\n",
      " [0 0 0 0 0 1 1 1 1 1]\n",
      " [1 1 1 1 1 0 0 0 0 0]\n",
      " [1 1 1 1 1 0 0 0 0 0]\n",
      " [1 1 1 1 1 0 0 0 0 0]\n",
      " [1 1 1 1 1 0 0 0 0 0]\n",
      " [1 1 1 1 1 0 0 0 0 0]]\n"
     ]
    }
   ],
   "source": [
    "# If you want to start a new simulation you can re-initialize the grid here\n",
    "grid_size = 10\n",
    "metal_grid = initialize_metal_grid(grid_size)\n",
    "\n",
    "\n",
    "print(metal_grid)"
   ]
  },
  {
   "cell_type": "code",
   "execution_count": 24,
   "id": "b0cc6983",
   "metadata": {
    "scrolled": false
   },
   "outputs": [
    {
     "name": "stdout",
     "output_type": "stream",
     "text": [
      "Successful self-diffusion - No changes expected!\n"
     ]
    },
    {
     "data": {
      "image/png": "[encoded data removed]",
      "text/plain": [
       "<Figure size 432x288 with 1 Axes>"
      ]
     },
     "metadata": {
      "needs_background": "light"
     },
     "output_type": "display_data"
    },
    {
     "name": "stdout",
     "output_type": "stream",
     "text": [
      "Successful self-diffusion - No changes expected!\n"
     ]
    },
    {
     "data": {
      "image/png": "[encoded data removed]",
      "text/plain": [
       "<Figure size 432x288 with 1 Axes>"
      ]
     },
     "metadata": {
      "needs_background": "light"
     },
     "output_type": "display_data"
    },
    {
     "name": "stdout",
     "output_type": "stream",
     "text": [
      "Successful self-diffusion - No changes expected!\n"
     ]
    },
    {
     "data": {
      "image/png": "[encoded data removed]",
      "text/plain": [
       "<Figure size 432x288 with 1 Axes>"
      ]
     },
     "metadata": {
      "needs_background": "light"
     },
     "output_type": "display_data"
    },
    {
     "name": "stdout",
     "output_type": "stream",
     "text": [
      "Successful self-diffusion - No changes expected!\n"
     ]
    },
    {
     "data": {
      "image/png": "[encoded data removed]",
      "text/plain": [
       "<Figure size 432x288 with 1 Axes>"
      ]
     },
     "metadata": {
      "needs_background": "light"
     },
     "output_type": "display_data"
    },
    {
     "name": "stdout",
     "output_type": "stream",
     "text": [
      "Successful self-diffusion - No changes expected!\n"
     ]
    },
    {
     "data": {
      "image/png": "[encoded data removed]",
      "text/plain": [
       "<Figure size 432x288 with 1 Axes>"
      ]
     },
     "metadata": {
      "needs_background": "light"
     },
     "output_type": "display_data"
    },
    {
     "name": "stdout",
     "output_type": "stream",
     "text": [
      "Successful self-diffusion - No changes expected!\n"
     ]
    },
    {
     "data": {
      "image/png": "[encoded data removed]",
      "text/plain": [
       "<Figure size 432x288 with 1 Axes>"
      ]
     },
     "metadata": {
      "needs_background": "light"
     },
     "output_type": "display_data"
    },
    {
     "name": "stdout",
     "output_type": "stream",
     "text": [
      "Successful self-diffusion - No changes expected!\n"
     ]
    },
    {
     "data": {
      "image/png": "[encoded data removed]",
      "text/plain": [
       "<Figure size 432x288 with 1 Axes>"
      ]
     },
     "metadata": {
      "needs_background": "light"
     },
     "output_type": "display_data"
    },
    {
     "name": "stdout",
     "output_type": "stream",
     "text": [
      "Successful self-diffusion - No changes expected!\n"
     ]
    },
    {
     "data": {
      "image/png": "[encoded data removed]",
      "text/plain": [
       "<Figure size 432x288 with 1 Axes>"
      ]
     },
     "metadata": {
      "needs_background": "light"
     },
     "output_type": "display_data"
    },
    {
     "name": "stdout",
     "output_type": "stream",
     "text": [
      "Successful self-diffusion - No changes expected!\n"
     ]
    },
    {
     "data": {
      "image/png": "[encoded data removed]",
      "text/plain": [
       "<Figure size 432x288 with 1 Axes>"
      ]
     },
     "metadata": {
      "needs_background": "light"
     },
     "output_type": "display_data"
    },
    {
     "name": "stdout",
     "output_type": "stream",
     "text": [
      "Successful self-diffusion - No changes expected!\n"
     ]
    },
    {
     "data": {
      "image/png": "[encoded data removed]",
      "text/plain": [
       "<Figure size 432x288 with 1 Axes>"
      ]
     },
     "metadata": {
      "needs_background": "light"
     },
     "output_type": "display_data"
    },
    {
     "name": "stdout",
     "output_type": "stream",
     "text": [
      "[[0 0 0 0 0 1 1 1 1 1]\n",
      " [0 0 0 0 0 1 1 1 1 1]\n",
      " [0 0 0 0 0 1 1 1 1 1]\n",
      " [0 0 0 0 0 1 1 1 1 1]\n",
      " [0 0 0 0 0 1 1 1 1 1]\n",
      " [1 1 1 1 1 0 0 0 0 0]\n",
      " [1 1 1 1 1 0 0 0 0 0]\n",
      " [1 1 1 1 1 0 0 0 0 0]\n",
      " [1 1 1 1 1 0 0 0 0 0]\n",
      " [1 1 1 1 1 0 0 0 0 0]]\n"
     ]
    }
   ],
   "source": [
    "# Initialize counter for successful jumps\n",
    "successful_jumps = 0\n",
    "total_steps = 10  # Total number of Monte Carlo steps\n",
    "\n",
    "\n",
    "for i in range(total_steps):\n",
    "    # Save the state of the grid before attempting the Monte Carlo step\n",
    "    previous_grid = metal_grid.copy()\n",
    "    \n",
    "    # Perform one Monte Carlo step\n",
    "    _, x, y, nx, ny = metal_diffusion_step(metal_grid, 1, +1, +1, -1, grid_size) # kT, E_AA, E_BB, E_AB\n",
    "\n",
    "    plt.figure()\n",
    "    plt.imshow(metal_grid)\n",
    "    plt.plot(y ,  x, \"o\", color=\"red\")\n",
    "    plt.plot(ny, nx, \"s\", color=\"red\")\n",
    "    plt.show()\n",
    "\n",
    "# Print the final grid\n",
    "print(metal_grid)"
   ]
  },
  {
   "cell_type": "markdown",
   "id": "58e5906e",
   "metadata": {},
   "source": [
    "### def calculate_mixing_index(grid):\n",
    "\n",
    "#### Physical Interpretation:\n",
    "\n",
    "The Mixing Index measures the degree of mixing between two types of atoms (A and B). A value of 0 indicates complete segregation (no A-B pairs), while a value close to 1 indicates maximal mixing (many A-B pairs).\n"
   ]
  },
  {
   "cell_type": "code",
   "execution_count": 25,
   "id": "fb3465d7",
   "metadata": {},
   "outputs": [],
   "source": [
    "# Function to calculate the mixing index of the grid, considering periodic boundary conditions\n",
    "def calculate_mixing_index(grid):\n",
    "    \"\"\"\n",
    "    Vectorized calculation of the Mixing Index.\n",
    "    The Mixing Index is the proportion of different neighboring pairs (A-B pairs).\n",
    "    0   - Perfect seperation, no A-B neighbors\n",
    "    0.5 - random solution\n",
    "    1   - Perfect intermixing, only A-B neighbors\n",
    "    \n",
    "    Parameters:\n",
    "    - grid                : np.array, 2D array representing the atom positions (either A or B).\n",
    "       \n",
    "    Returns:\n",
    "    - mixing index        : float, represents the state of mixing / order of the current grid\n",
    "    \"\"\"\n",
    "    # Shifted grids for right and down neighbors, with periodic boundaries\n",
    "    right_neighbors = np.roll(grid, shift=-1, axis=1)\n",
    "    down_neighbors = np.roll(grid, shift=-1, axis=0)\n",
    "\n",
    "    # Calculate A-B pairs\n",
    "    ab_pairs_right = grid != right_neighbors\n",
    "    ab_pairs_down = grid != down_neighbors\n",
    "\n",
    "    # Total pairs are grid_size^2 for both right and down neighbors (no double-counting)\n",
    "    total_pairs = 2 * grid.size\n",
    "    ab_pairs = np.sum(ab_pairs_right) + np.sum(ab_pairs_down)\n",
    "\n",
    "    return ab_pairs / total_pairs"
   ]
  },
  {
   "cell_type": "markdown",
   "id": "16357e5b",
   "metadata": {},
   "source": [
    "#### Demonstration"
   ]
  },
  {
   "cell_type": "markdown",
   "id": "e20fcae4",
   "metadata": {},
   "source": [
    "A perfectly order grid results in a mixing index of 1."
   ]
  },
  {
   "cell_type": "code",
   "execution_count": 26,
   "id": "955d98c1",
   "metadata": {},
   "outputs": [
    {
     "name": "stdout",
     "output_type": "stream",
     "text": [
      "[[0 1 0 1]\n",
      " [1 0 1 0]\n",
      " [0 1 0 1]\n",
      " [1 0 1 0]]\n"
     ]
    },
    {
     "data": {
      "image/png": "[encoded data removed]",
      "text/plain": [
       "<Figure size 432x288 with 1 Axes>"
      ]
     },
     "metadata": {
      "needs_background": "light"
     },
     "output_type": "display_data"
    },
    {
     "data": {
      "text/plain": [
       "1.0"
      ]
     },
     "execution_count": 26,
     "metadata": {},
     "output_type": "execute_result"
    }
   ],
   "source": [
    "# If you want to start a new simulation you can re-initialize the grid here\n",
    "#grid_size = 10\n",
    "#grid = initialize_metal_grid(grid_size)\n",
    "\n",
    "grid_size = 4\n",
    "grid = np.array([[0,1,0,1],\n",
    "                 [1,0,1,0],\n",
    "                 [0,1,0,1],\n",
    "                 [1,0,1,0]])\n",
    "print(grid)\n",
    "plt.figure()\n",
    "plt.imshow(grid)\n",
    "plt.show()\n",
    "\n",
    "calculate_mixing_index(grid)\n",
    "\n"
   ]
  },
  {
   "cell_type": "markdown",
   "id": "19476343",
   "metadata": {},
   "source": [
    "A well seperated grid results in a mixing index close to zero. Since some A-B neighbors will always be present (exept if you only have A or B atoms) the mixing index will never the exactly zero."
   ]
  },
  {
   "cell_type": "code",
   "execution_count": 27,
   "id": "e74dff21",
   "metadata": {},
   "outputs": [
    {
     "name": "stdout",
     "output_type": "stream",
     "text": [
      "[[0 0 0 ... 1 1 1]\n",
      " [0 0 0 ... 1 1 1]\n",
      " [0 0 0 ... 1 1 1]\n",
      " ...\n",
      " [1 1 1 ... 0 0 0]\n",
      " [1 1 1 ... 0 0 0]\n",
      " [1 1 1 ... 0 0 0]]\n"
     ]
    },
    {
     "data": {
      "image/png": "[encoded data removed]",
      "text/plain": [
       "<Figure size 432x288 with 1 Axes>"
      ]
     },
     "metadata": {
      "needs_background": "light"
     },
     "output_type": "display_data"
    },
    {
     "data": {
      "text/plain": [
       "0.02"
      ]
     },
     "execution_count": 27,
     "metadata": {},
     "output_type": "execute_result"
    }
   ],
   "source": [
    "# If you want to start a new simulation you can re-initialize the grid here\n",
    "grid_size = 100\n",
    "grid = initialize_metal_grid(grid_size)\n",
    "\n",
    "print(grid)\n",
    "plt.figure()\n",
    "plt.imshow(grid)\n",
    "plt.show()\n",
    "\n",
    "calculate_mixing_index(grid)"
   ]
  },
  {
   "cell_type": "markdown",
   "id": "b2aa9dee",
   "metadata": {},
   "source": [
    "Making a large random grid results in a mixing index approaching 0.5.\n",
    "The mixing index will closer to 0.5 the larger the grid."
   ]
  },
  {
   "cell_type": "code",
   "execution_count": 28,
   "id": "f1459b06",
   "metadata": {},
   "outputs": [
    {
     "name": "stdout",
     "output_type": "stream",
     "text": [
      "[[0 1 1 ... 1 1 1]\n",
      " [0 0 0 ... 1 0 0]\n",
      " [1 0 1 ... 0 1 0]\n",
      " ...\n",
      " [0 1 1 ... 0 0 1]\n",
      " [1 0 0 ... 0 1 0]\n",
      " [0 0 0 ... 1 0 0]]\n"
     ]
    },
    {
     "data": {
      "image/png": "[encoded data removed]",
      "text/plain": [
       "<Figure size 432x288 with 1 Axes>"
      ]
     },
     "metadata": {
      "needs_background": "light"
     },
     "output_type": "display_data"
    },
    {
     "data": {
      "text/plain": [
       "0.49994112"
      ]
     },
     "execution_count": 28,
     "metadata": {},
     "output_type": "execute_result"
    }
   ],
   "source": [
    "# Parameters\n",
    "grid_size = 10000  # Adjust the size of the grid as needed\n",
    "\n",
    "# Generate a random 2D grid with 0s and 1s\n",
    "grid = np.random.randint(2, size=(grid_size, grid_size))\n",
    "\n",
    "print(grid)\n",
    "plt.figure()\n",
    "plt.imshow(grid)\n",
    "plt.show()\n",
    "\n",
    "calculate_mixing_index(grid)"
   ]
  },
  {
   "cell_type": "markdown",
   "id": "48c383eb",
   "metadata": {},
   "source": [
    "### def sample_energy(E_mean, E_std):\n",
    "\n",
    "#### Physical Interpretation:\n",
    "\n",
    "This varies the interaction energies based on a normal distribution to obtain more general and reliable results, i.e., results that are less sensitive to a particular set of interaction energies."
   ]
  },
  {
   "cell_type": "code",
   "execution_count": 29,
   "id": "a3760490",
   "metadata": {},
   "outputs": [],
   "source": [
    "# Function to sample energy values from a normal distribution\n",
    "def sample_energy(E_mean, E_std):\n",
    "    \"\"\"Function to sample interaction energies from a normal distribution\n",
    "    \n",
    "    Parameters:\n",
    "        \n",
    "    - E_mean          : float, mean value of the normal distribution\n",
    "    - E_std           : float, Standard deviation of the normal distribution\n",
    "    \n",
    "    Returns:\n",
    "    - E               : float, energy sample drawn form a normal distribution\n",
    "    \"\"\"\n",
    "    return np.random.normal(E_mean, E_std)"
   ]
  },
  {
   "cell_type": "markdown",
   "id": "c5cfa9a3",
   "metadata": {},
   "source": [
    "#### Demonstration"
   ]
  },
  {
   "cell_type": "code",
   "execution_count": 30,
   "id": "39454d54",
   "metadata": {},
   "outputs": [
    {
     "data": {
      "image/png": "[encoded data removed]",
      "text/plain": [
       "<Figure size 432x288 with 1 Axes>"
      ]
     },
     "metadata": {
      "needs_background": "light"
     },
     "output_type": "display_data"
    }
   ],
   "source": [
    "E_sample = []\n",
    "for i in range(10000):\n",
    "    E_sample.append(sample_energy(1, 0.5))\n",
    "    \n",
    "hist = plt.hist(E_sample, bins=30)"
   ]
  },
  {
   "cell_type": "markdown",
   "id": "f16901d1",
   "metadata": {},
   "source": [
    "### def get_sampling_interval(n_mc_steps):\n",
    "\n",
    "#### Physical Interpretation:\n",
    "\n",
    "No physical interpretation - Reduce sampling frequency at larger MC steps in order to reduce the memory usage and increase computational efficiency."
   ]
  },
  {
   "cell_type": "code",
   "execution_count": 31,
   "id": "6430c704",
   "metadata": {},
   "outputs": [],
   "source": [
    "# To make the frequency of energy and mixing index calculations dependent on the total number of Monte Carlo (MC) steps,\n",
    "# you can adjust the interval dynamically based on the total `n_mc_steps`. Here's an implementation of that:\n",
    "def get_sampling_interval(n_mc_steps):\n",
    "    \"\"\"\n",
    "    Function to determine the sampling interval for calculating energy and mixing index\n",
    "    based on the total number of MC steps.\n",
    "    \n",
    "    The higher the number of MC steps, the less frequent the sampling will be.\n",
    "    \n",
    "    Parameters:\n",
    "    - n_mc_steps           : int, current MC step\n",
    "    \n",
    "    Returns:\n",
    "    - sampling_interval    : int, sampling interval for saving data and checking convergence based on current MC step\n",
    "    \"\"\"\n",
    "    # Define a scaling factor or logic to decrease sampling frequency as n_mc_steps increases\n",
    "    if n_mc_steps   <= 100:\n",
    "        return 5      # Sample every 5 steps for smaller simulations\n",
    "    if n_mc_steps   <= 1000:\n",
    "        return 50     # Sample every 50 steps for smaller simulations\n",
    "    elif n_mc_steps <= 10000:\n",
    "        return 500    # Sample every 500 steps for mid-range simulations\n",
    "    elif n_mc_steps <= 100000:\n",
    "        return 5000   # Sample every 5000 steps for larger simulations\n",
    "    elif n_mc_steps <= 1000000:\n",
    "        return 10000  # Sample every 50000 steps for larger simulations\n",
    "    else:\n",
    "        return 25000  # Sample every 100000 steps for larger simulations"
   ]
  },
  {
   "cell_type": "markdown",
   "id": "70aa58f4",
   "metadata": {},
   "source": [
    "#### Demonstration"
   ]
  },
  {
   "cell_type": "code",
   "execution_count": 32,
   "id": "2f6b0d14",
   "metadata": {},
   "outputs": [
    {
     "data": {
      "text/plain": [
       "25000"
      ]
     },
     "execution_count": 32,
     "metadata": {},
     "output_type": "execute_result"
    }
   ],
   "source": [
    "get_sampling_interval(100000000)"
   ]
  },
  {
   "cell_type": "markdown",
   "id": "2c3d64d4",
   "metadata": {},
   "source": [
    "# Metal - Hydrogen System"
   ]
  },
  {
   "cell_type": "markdown",
   "id": "2361a52a",
   "metadata": {},
   "source": [
    "Function to initialize the hydrogen grid (H atoms near A atoms)  - NOT USED IN SIMULATION - FOR TUTORIAL\n",
    "\n",
    "`def initialize_hydrogen_grid(grid_size):`\n",
    "\n",
    "---\n",
    "\n",
    "Function to perform a shear step (mechanical intermixing) with flow strength weighting\n",
    "\n",
    "`def shear_step_with_hydrogen(metal_grid, hydrogen_grid, shear_type=\"both\", strength_A=1, strength_B=0.2, shear_counts_horizontal=None, shear_counts_vertical=None):`\n",
    "\n",
    "---\n",
    "\n",
    "Function to calculate interaction energy between a specific metal atom and neighboring hydrogen sites\n",
    "\n",
    "`def calculate_metal_hydrogen_interaction_energy(x, y, metal_grid, hydrogen_grid, E_AH, E_BH):`\n",
    "\n",
    "---\n",
    "\n",
    "Function to calculate interaction energy of a specific hydrogen atoms / site with surrounding metals, including periodic boundary conditions\n",
    "\n",
    "`def calculate_hydrogen_metal_interaction_energy(x, y, hydrogen_grid, metal_grid, E_AH, E_BH):`\n",
    "\n",
    "---\n",
    "\n",
    "Function that sums up all the interaction energies between hydrogen and metals\n",
    "\n",
    "`def calculate_total_metal_hydrogen_interaction_energy(metal_grid, hydrogen_grid, E_AH, E_BH):`\n",
    "\n",
    "---\n",
    "\n",
    "Function to perform a metal diffusion step considering both metal-metal and metal-hydrogen interactions with periodic boundary conditions\n",
    "\n",
    "`def metal_diffusion_step_with_hydrogen(metal_grid, hydrogen_grid, kT, E_same, E_diff, E_AH, E_BH):`\n",
    "\n",
    "\n",
    "---\n",
    "Function to perform a metal diffusion step considering both metal-hydrogen interactions with periodic boundary conditions\n",
    "\n",
    "`def hydrogen_diffusion_step(hydrogen_grid, metal_grid, kT, E_AH, E_BH):`\n",
    "\n",
    "\n"
   ]
  },
  {
   "cell_type": "markdown",
   "id": "769042fd",
   "metadata": {},
   "source": [
    "---\n",
    "### def initialize_hydrogen_grid():\n",
    "\n",
    "#### Physical Interpretation:\n",
    "\n",
    "Hydrogen atoms are now positioned in interstitial sites near A atoms in the top-left and bottom-right quadrants.\n",
    "\n",
    "The grid size remains the same as the metal grid, ensuring that periodic boundary conditions are correctly applied when atoms at the boundaries interact with atoms on the opposite side.\n",
    "\n",
    "###### H atoms, near A atoms - 1 in the hydrogen grid (i.e., 0 in the metal grid)\n",
    "\n",
    "###### Vacancies or vacant intersitial sites, near B atoms - 0 in the hydrogen grid (i.e., 1 in the metal grid)\n",
    "\n",
    "\n",
    "Repetion from the metal grid definition:\n",
    "\n",
    "###### A atoms, e.g., TiVZrNbHf - 0\n",
    "\n",
    "###### B atoms, e.g., Cu - 1\n",
    "\n",
    "---\n"
   ]
  },
  {
   "cell_type": "code",
   "execution_count": 33,
   "id": "c2169b27",
   "metadata": {},
   "outputs": [],
   "source": [
    "# Function to initialize the hydrogen grid (H atoms near A atoms)\n",
    "def initialize_hydrogen_grid(grid_size):\n",
    "    \"\"\"\n",
    "    The hydrogen grid will have the same size as the metal grid.\n",
    "    We will place hydrogen atoms near A atoms (=0), but ensure that the\n",
    "    hydrogen atoms occupy interstitial sites at the boundary as well\n",
    "    (effectively wrapping the grid).\n",
    "    Hydrogen atoms are represented by 1, a vacant interstitial site by 0.\n",
    "    Therefore, the hydrogen grid will effectively be the inverted version of the original metal grid,\n",
    "    i.e., H atoms (=1) will be on top of A atoms (=0), and vacancies (=0) will be on top of B atoms(=1).\n",
    "    \n",
    "    Parameters: \n",
    "    - grid_size:          int, size of the hydrogen grid, should be the same as that of the metal grid\n",
    "    \n",
    "    Returns\n",
    "    - hydrogen_grid       2D np.array, grid representing the hydrogen atoms, 0 is a vacancy, 1 is a hydrogen atom\n",
    "    \"\"\"\n",
    "    # Initialize a grid of the same size as the metal grid\n",
    "    hydrogen_grid = np.zeros((grid_size, grid_size), dtype=np.int64)\n",
    "    \n",
    "    # Place hydrogen near A atoms, with periodic boundary conditions\n",
    "    # Top-left quadrant (A atoms)\n",
    "    hydrogen_grid[:grid_size // 2, :grid_size // 2] = 1  # Hydrogen near A atoms (Top-left)\n",
    "    \n",
    "    # Bottom-right quadrant (A atoms)\n",
    "    hydrogen_grid[grid_size // 2:, grid_size // 2:] = 1  # Hydrogen near A atoms (Bottom-right)\n",
    "    \n",
    "    return hydrogen_grid"
   ]
  },
  {
   "cell_type": "markdown",
   "id": "dfd41e40",
   "metadata": {},
   "source": [
    "#### Demonstration"
   ]
  },
  {
   "cell_type": "code",
   "execution_count": 34,
   "id": "e6b2cf7d",
   "metadata": {},
   "outputs": [
    {
     "name": "stdout",
     "output_type": "stream",
     "text": [
      "[[1 1 1 1 1 0 0 0 0 0]\n",
      " [1 1 1 1 1 0 0 0 0 0]\n",
      " [1 1 1 1 1 0 0 0 0 0]\n",
      " [1 1 1 1 1 0 0 0 0 0]\n",
      " [1 1 1 1 1 0 0 0 0 0]\n",
      " [0 0 0 0 0 1 1 1 1 1]\n",
      " [0 0 0 0 0 1 1 1 1 1]\n",
      " [0 0 0 0 0 1 1 1 1 1]\n",
      " [0 0 0 0 0 1 1 1 1 1]\n",
      " [0 0 0 0 0 1 1 1 1 1]]\n"
     ]
    }
   ],
   "source": [
    "grid_size = 10\n",
    "hydrogen_grid = initialize_hydrogen_grid(grid_size)\n",
    "print(hydrogen_grid)"
   ]
  },
  {
   "cell_type": "code",
   "execution_count": 35,
   "id": "020d2735",
   "metadata": {},
   "outputs": [
    {
     "data": {
      "text/plain": [
       "<matplotlib.image.AxesImage at 0x1c41ee205b0>"
      ]
     },
     "execution_count": 35,
     "metadata": {},
     "output_type": "execute_result"
    },
    {
     "data": {
      "image/png": "[encoded data removed]",
      "text/plain": [
       "<Figure size 432x288 with 1 Axes>"
      ]
     },
     "metadata": {
      "needs_background": "light"
     },
     "output_type": "display_data"
    }
   ],
   "source": [
    "# Plot grid to show that the Numpy Array\n",
    "plt.imshow(hydrogen_grid)"
   ]
  },
  {
   "cell_type": "markdown",
   "id": "7976afb1",
   "metadata": {},
   "source": [
    "One can see here that the pattern is inverted from the pattern (1.example) of the metal grid, meaning that the hydrogen sites are at the sites close to the A atoms (0 in the metal grid)."
   ]
  },
  {
   "cell_type": "markdown",
   "id": "bd00403c",
   "metadata": {},
   "source": [
    "#### Demonstrations+\n",
    "\n",
    "In the MC simulation using the representative real starting configuation, the inverted nature of the hydrogen grid can be used to calculate it from the metal grid in a simple fashion."
   ]
  },
  {
   "cell_type": "code",
   "execution_count": 36,
   "id": "f59463da",
   "metadata": {},
   "outputs": [
    {
     "data": {
      "text/plain": [
       "array([[0, 0, 0, ..., 0, 1, 1],\n",
       "       [0, 0, 0, ..., 1, 1, 1],\n",
       "       [0, 0, 0, ..., 1, 0, 0],\n",
       "       ...,\n",
       "       [0, 0, 0, ..., 1, 1, 1],\n",
       "       [0, 0, 0, ..., 1, 0, 1],\n",
       "       [0, 0, 0, ..., 1, 0, 1]], dtype=int64)"
      ]
     },
     "execution_count": 36,
     "metadata": {},
     "output_type": "execute_result"
    }
   ],
   "source": [
    "grid_size = 100\n",
    "\n",
    "FILEPATH_STARTING_CONFIGURATION = \"Real_starting_conf.png\"\n",
    "metal_grid = initialize_grid_from_image(FILEPATH_STARTING_CONFIGURATION, grid_size)\n",
    "metal_grid"
   ]
  },
  {
   "cell_type": "code",
   "execution_count": 37,
   "id": "52089ff4",
   "metadata": {},
   "outputs": [
    {
     "data": {
      "text/plain": [
       "<matplotlib.image.AxesImage at 0x1c41f0a94c0>"
      ]
     },
     "execution_count": 37,
     "metadata": {},
     "output_type": "execute_result"
    },
    {
     "data": {
      "image/png": "[encoded data removed]",
      "text/plain": [
       "<Figure size 432x288 with 1 Axes>"
      ]
     },
     "metadata": {
      "needs_background": "light"
     },
     "output_type": "display_data"
    }
   ],
   "source": [
    "plt.imshow(metal_grid)"
   ]
  },
  {
   "cell_type": "code",
   "execution_count": 38,
   "id": "6c991532",
   "metadata": {},
   "outputs": [],
   "source": [
    "hydrogen_grid = 1 - metal_grid"
   ]
  },
  {
   "cell_type": "code",
   "execution_count": 39,
   "id": "251f89a4",
   "metadata": {},
   "outputs": [
    {
     "data": {
      "text/plain": [
       "<matplotlib.image.AxesImage at 0x1c41f144400>"
      ]
     },
     "execution_count": 39,
     "metadata": {},
     "output_type": "execute_result"
    },
    {
     "data": {
      "image/png": "[encoded data removed]",
      "text/plain": [
       "<Figure size 432x288 with 1 Axes>"
      ]
     },
     "metadata": {
      "needs_background": "light"
     },
     "output_type": "display_data"
    }
   ],
   "source": [
    "plt.imshow(hydrogen_grid)"
   ]
  },
  {
   "cell_type": "markdown",
   "id": "978f535f",
   "metadata": {},
   "source": [
    "---\n",
    "### def shear_step_with_hydrogen():\n",
    "\n",
    "#### Physical Interpretation:\n",
    "\n",
    "Updated version of def shear_step(grid) that simultaniously shifts the metal and the hydrogen sub-grids."
   ]
  },
  {
   "cell_type": "code",
   "execution_count": 40,
   "id": "660ebab4",
   "metadata": {},
   "outputs": [],
   "source": [
    "# Function to perform a shear step (mechanical intermixing) with flow strength weighting\n",
    "def shear_step_with_hydrogen(metal_grid, hydrogen_grid, shear_counts_horizontal, shear_counts_vertical, \n",
    "                             shear_type, strength_A, strength_B, max_attempts):\n",
    "    \"\"\"\n",
    "    Perform a shear step with probability weighted by the cumulative strength of atoms along the shear line.\n",
    "    This function enforces that at least one shear step occurs.\n",
    "\n",
    "    Parameters:\n",
    "    - metal_grid              : np.array, 2D grid of metal atoms (0 for A, 1 for B).\n",
    "    - hydrogen_grid           : np.array, 2D grid of hydrogen atoms (1 for H, 0 for empty).\n",
    "    - shear_counts_horizontal : np.array, tracks horizontal shear steps per row.\n",
    "    - shear_counts_vertical   : np.array, tracks vertical shear steps per column.\n",
    "    - shear_type              : int, 0 for horizontal, 1 for vertical, 2 for random selection.\n",
    "    - strength_A              : float, flow strength (hardness) of metal type A.\n",
    "    - strength_B              : float, flow strength (hardness) of metal type B.\n",
    "    - max_attempts            : int, maximum attempts to find a suitable shear location before forcing it.\n",
    "\n",
    "    Returns:\n",
    "    - int: The row or column index where shear occurred.\n",
    "    \"\"\"\n",
    "\n",
    "    grid_size_x, grid_size_y = metal_grid.shape\n",
    "\n",
    "    # **Optimized Shear Type Selection**\n",
    "    if shear_type == 2:\n",
    "        horizontal_shear = np.random.rand() < 0.5  # 50% chance of horizontal shear\n",
    "    else:\n",
    "        horizontal_shear = shear_type == 0\n",
    "\n",
    "    # Maximum strength normalization factor\n",
    "    max_strength = 2 * max(strength_A, strength_B) * (grid_size_y if horizontal_shear else grid_size_x)\n",
    "\n",
    "    # Attempt up to `max_attempts` times to perform a shear step\n",
    "    for _ in range(max_attempts):\n",
    "        if horizontal_shear:\n",
    "            # Pick a random row\n",
    "            line = np.random.randint(0, grid_size_x)\n",
    "            print(f\"Horizontal shear attempted in line {line}\")\n",
    "\n",
    "            # Compute shear probability (vectorized)\n",
    "            cumulative_strength = np.sum((metal_grid[line, :] == 0) * strength_A + (metal_grid[line, :] == 1) * strength_B) + \\\n",
    "                                  np.sum((metal_grid[(line - 1) % grid_size_x, :] == 0) * strength_A + (metal_grid[(line - 1) % grid_size_x, :] == 1) * strength_B)\n",
    "            \n",
    "            shear_probability = 1.0 - (cumulative_strength / max_strength)\n",
    "            print(f\"Cumulative strength is {cumulative_strength:.1f} and the shear probabiliy therefore {shear_probability:.1f}\")\n",
    "\n",
    "            # Perform shear step if probability is met or at last attempt\n",
    "            if np.random.rand() < shear_probability or _ == max_attempts - 1:\n",
    "                print(f\"Horizontal shear successful at line {line}!\")\n",
    "\n",
    "                # Efficient row shifting using pure NumPy indexing\n",
    "                last_col_metal = metal_grid[:line, -1].copy()  # Store last column\n",
    "                metal_grid[:line, 1:] = metal_grid[:line, :-1]  # Shift right\n",
    "                metal_grid[:line, 0] = last_col_metal  # Wrap-around\n",
    "\n",
    "                last_col_hydrogen = hydrogen_grid[:line, -1].copy()  # Store last column\n",
    "                hydrogen_grid[:line, 1:] = hydrogen_grid[:line, :-1]  # Shift right\n",
    "                hydrogen_grid[:line, 0] = last_col_hydrogen  # Wrap-around\n",
    "\n",
    "                shear_counts_horizontal[line] += 1  \n",
    "                return line  # Return immediately after successful shear\n",
    "\n",
    "        else:\n",
    "            # Pick a random column\n",
    "            line = np.random.randint(0, grid_size_y)\n",
    "            print(f\"Vertical shear attempted in line {line}\")\n",
    "            \n",
    "            # Compute shear probability (vectorized)\n",
    "            cumulative_strength = np.sum((metal_grid[:, line] == 0) * strength_A + (metal_grid[:, line] == 1) * strength_B) + \\\n",
    "                                  np.sum((metal_grid[:, (line - 1) % grid_size_y] == 0) * strength_A + (metal_grid[:, (line - 1) % grid_size_y] == 1) * strength_B)\n",
    "            \n",
    "            shear_probability = 1.0 - (cumulative_strength / max_strength)\n",
    "            print(f\"Cumulative strength is {cumulative_strength:.1f} and the shear probabiliy therefore {shear_probability:.1f}\")\n",
    "\n",
    "            # Perform shear step if probability is met or at last attempt\n",
    "            if np.random.rand() < shear_probability or _ == max_attempts - 1:\n",
    "                print(f\"Vertical shear successful at line {line}!\")\n",
    "                \n",
    "                # Efficient column shifting using pure NumPy indexing\n",
    "                last_row_metal = metal_grid[-1, :line].copy()  # Store last row\n",
    "                metal_grid[1:, :line] = metal_grid[:-1, :line]  # Shift down\n",
    "                metal_grid[0, :line] = last_row_metal  # Wrap-around\n",
    "\n",
    "                last_row_hydrogen = hydrogen_grid[-1, :line].copy()  # Store last row\n",
    "                hydrogen_grid[1:, :line] = hydrogen_grid[:-1, :line]  # Shift down\n",
    "                hydrogen_grid[0, :line] = last_row_hydrogen  # Wrap-around\n",
    "\n",
    "                shear_counts_vertical[line] += 1  \n",
    "                return line  # Return immediately after successful shear"
   ]
  },
  {
   "cell_type": "markdown",
   "id": "d0145f04",
   "metadata": {},
   "source": [
    "#### Demonstration"
   ]
  },
  {
   "cell_type": "code",
   "execution_count": 41,
   "id": "d8e95c10",
   "metadata": {},
   "outputs": [],
   "source": [
    "# If you want to start a new simulation you can re-initialize the grid here\n",
    "grid_size = 10\n",
    "metal_grid = initialize_metal_grid(grid_size)\n",
    "hydrogen_grid = initialize_hydrogen_grid(grid_size)"
   ]
  },
  {
   "cell_type": "code",
   "execution_count": 42,
   "id": "34977ebd",
   "metadata": {},
   "outputs": [
    {
     "data": {
      "text/plain": [
       "<matplotlib.image.AxesImage at 0x1c41ef81550>"
      ]
     },
     "execution_count": 42,
     "metadata": {},
     "output_type": "execute_result"
    },
    {
     "data": {
      "image/png": "[encoded data removed]",
      "text/plain": [
       "<Figure size 432x288 with 1 Axes>"
      ]
     },
     "metadata": {
      "needs_background": "light"
     },
     "output_type": "display_data"
    }
   ],
   "source": [
    "plt.imshow(metal_grid)"
   ]
  },
  {
   "cell_type": "code",
   "execution_count": 43,
   "id": "3534f358",
   "metadata": {},
   "outputs": [
    {
     "data": {
      "text/plain": [
       "<matplotlib.image.AxesImage at 0x1c41eecb220>"
      ]
     },
     "execution_count": 43,
     "metadata": {},
     "output_type": "execute_result"
    },
    {
     "data": {
      "image/png": "[encoded data removed]",
      "text/plain": [
       "<Figure size 432x288 with 1 Axes>"
      ]
     },
     "metadata": {
      "needs_background": "light"
     },
     "output_type": "display_data"
    }
   ],
   "source": [
    "plt.imshow(hydrogen_grid)"
   ]
  },
  {
   "cell_type": "code",
   "execution_count": 44,
   "id": "675dff1b",
   "metadata": {},
   "outputs": [
    {
     "name": "stdout",
     "output_type": "stream",
     "text": [
      "Horizontal shear attempted in line 7\n",
      "Cumulative strength is 12.0 and the shear probabiliy therefore 0.4\n",
      "Horizontal shear successful at line 7!\n"
     ]
    }
   ],
   "source": [
    "shear_counts_horizontal = np.zeros(grid_size, dtype=np.int64)\n",
    "shear_counts_vertical   = np.zeros(grid_size, dtype=np.int64)\n",
    "\n",
    "shear_line = shear_step_with_hydrogen(metal_grid              = metal_grid,\n",
    "                                      hydrogen_grid           = hydrogen_grid,\n",
    "                                      shear_counts_horizontal = shear_counts_horizontal,\n",
    "                                      shear_counts_vertical   = shear_counts_vertical, \n",
    "                                      shear_type              = 0,\n",
    "                                      strength_A              = 1,\n",
    "                                      strength_B              = 0.2,\n",
    "                                      max_attempts            = 10)"
   ]
  },
  {
   "cell_type": "code",
   "execution_count": 45,
   "id": "bd6eb3b4",
   "metadata": {
    "scrolled": true
   },
   "outputs": [
    {
     "data": {
      "text/plain": [
       "[<matplotlib.lines.Line2D at 0x1c41f0f89a0>]"
      ]
     },
     "execution_count": 45,
     "metadata": {},
     "output_type": "execute_result"
    },
    {
     "data": {
      "image/png": "[encoded data removed]",
      "text/plain": [
       "<Figure size 432x288 with 1 Axes>"
      ]
     },
     "metadata": {
      "needs_background": "light"
     },
     "output_type": "display_data"
    }
   ],
   "source": [
    "plt.imshow(metal_grid)\n",
    "plt.plot( [0, metal_grid.shape[1]-1], [shear_line, shear_line], \"-\")"
   ]
  },
  {
   "cell_type": "code",
   "execution_count": 46,
   "id": "5dffc4d1",
   "metadata": {},
   "outputs": [
    {
     "data": {
      "text/plain": [
       "[<matplotlib.lines.Line2D at 0x1c44ee31be0>]"
      ]
     },
     "execution_count": 46,
     "metadata": {},
     "output_type": "execute_result"
    },
    {
     "data": {
      "image/png": "[encoded data removed]",
      "text/plain": [
       "<Figure size 432x288 with 1 Axes>"
      ]
     },
     "metadata": {
      "needs_background": "light"
     },
     "output_type": "display_data"
    }
   ],
   "source": [
    "plt.imshow(hydrogen_grid)\n",
    "plt.plot( [0, hydrogen_grid.shape[1]-1], [shear_line, shear_line], \"-\")"
   ]
  },
  {
   "cell_type": "code",
   "execution_count": 47,
   "id": "8057ceb3",
   "metadata": {
    "scrolled": false
   },
   "outputs": [
    {
     "name": "stdout",
     "output_type": "stream",
     "text": [
      "Horizontal shear attempted in line 9\n",
      "Cumulative strength is 12.0 and the shear probabiliy therefore 0.4\n",
      "Horizontal shear attempted in line 2\n",
      "Cumulative strength is 12.0 and the shear probabiliy therefore 0.4\n",
      "Horizontal shear attempted in line 0\n",
      "Cumulative strength is 12.0 and the shear probabiliy therefore 0.4\n",
      "Horizontal shear successful at line 0!\n",
      "Step 0\n"
     ]
    },
    {
     "data": {
      "image/png": "[encoded data removed]",
      "text/plain": [
       "<Figure size 432x288 with 1 Axes>"
      ]
     },
     "metadata": {
      "needs_background": "light"
     },
     "output_type": "display_data"
    },
    {
     "data": {
      "image/png": "[encoded data removed]",
      "text/plain": [
       "<Figure size 432x288 with 1 Axes>"
      ]
     },
     "metadata": {
      "needs_background": "light"
     },
     "output_type": "display_data"
    },
    {
     "name": "stdout",
     "output_type": "stream",
     "text": [
      "Horizontal shear attempted in line 0\n",
      "Cumulative strength is 12.0 and the shear probabiliy therefore 0.4\n",
      "Horizontal shear successful at line 0!\n",
      "Step 1\n"
     ]
    },
    {
     "data": {
      "image/png": "[encoded data removed]",
      "text/plain": [
       "<Figure size 432x288 with 1 Axes>"
      ]
     },
     "metadata": {
      "needs_background": "light"
     },
     "output_type": "display_data"
    },
    {
     "data": {
      "image/png": "[encoded data removed]",
      "text/plain": [
       "<Figure size 432x288 with 1 Axes>"
      ]
     },
     "metadata": {
      "needs_background": "light"
     },
     "output_type": "display_data"
    },
    {
     "name": "stdout",
     "output_type": "stream",
     "text": [
      "Horizontal shear attempted in line 2\n",
      "Cumulative strength is 12.0 and the shear probabiliy therefore 0.4\n",
      "Horizontal shear attempted in line 4\n",
      "Cumulative strength is 12.0 and the shear probabiliy therefore 0.4\n",
      "Horizontal shear successful at line 4!\n",
      "Step 2\n"
     ]
    },
    {
     "data": {
      "image/png": "[encoded data removed]",
      "text/plain": [
       "<Figure size 432x288 with 1 Axes>"
      ]
     },
     "metadata": {
      "needs_background": "light"
     },
     "output_type": "display_data"
    },
    {
     "data": {
      "image/png": "[encoded data removed]",
      "text/plain": [
       "<Figure size 432x288 with 1 Axes>"
      ]
     },
     "metadata": {
      "needs_background": "light"
     },
     "output_type": "display_data"
    },
    {
     "name": "stdout",
     "output_type": "stream",
     "text": [
      "Horizontal shear attempted in line 0\n",
      "Cumulative strength is 12.0 and the shear probabiliy therefore 0.4\n",
      "Horizontal shear attempted in line 3\n",
      "Cumulative strength is 12.0 and the shear probabiliy therefore 0.4\n",
      "Horizontal shear attempted in line 3\n",
      "Cumulative strength is 12.0 and the shear probabiliy therefore 0.4\n",
      "Horizontal shear attempted in line 2\n",
      "Cumulative strength is 12.0 and the shear probabiliy therefore 0.4\n",
      "Horizontal shear successful at line 2!\n",
      "Step 3\n"
     ]
    },
    {
     "data": {
      "image/png": "[encoded data removed]",
      "text/plain": [
       "<Figure size 432x288 with 1 Axes>"
      ]
     },
     "metadata": {
      "needs_background": "light"
     },
     "output_type": "display_data"
    },
    {
     "data": {
      "image/png": "[encoded data removed]",
      "text/plain": [
       "<Figure size 432x288 with 1 Axes>"
      ]
     },
     "metadata": {
      "needs_background": "light"
     },
     "output_type": "display_data"
    },
    {
     "name": "stdout",
     "output_type": "stream",
     "text": [
      "Horizontal shear attempted in line 4\n",
      "Cumulative strength is 12.0 and the shear probabiliy therefore 0.4\n",
      "Horizontal shear successful at line 4!\n",
      "Step 4\n"
     ]
    },
    {
     "data": {
      "image/png": "[encoded data removed]",
      "text/plain": [
       "<Figure size 432x288 with 1 Axes>"
      ]
     },
     "metadata": {
      "needs_background": "light"
     },
     "output_type": "display_data"
    },
    {
     "data": {
      "image/png": "[encoded data removed]",
      "text/plain": [
       "<Figure size 432x288 with 1 Axes>"
      ]
     },
     "metadata": {
      "needs_background": "light"
     },
     "output_type": "display_data"
    },
    {
     "name": "stdout",
     "output_type": "stream",
     "text": [
      "Horizontal shear attempted in line 2\n",
      "Cumulative strength is 12.0 and the shear probabiliy therefore 0.4\n",
      "Horizontal shear successful at line 2!\n",
      "Step 5\n"
     ]
    },
    {
     "data": {
      "image/png": "[encoded data removed]",
      "text/plain": [
       "<Figure size 432x288 with 1 Axes>"
      ]
     },
     "metadata": {
      "needs_background": "light"
     },
     "output_type": "display_data"
    },
    {
     "data": {
      "image/png": "[encoded data removed]",
      "text/plain": [
       "<Figure size 432x288 with 1 Axes>"
      ]
     },
     "metadata": {
      "needs_background": "light"
     },
     "output_type": "display_data"
    },
    {
     "name": "stdout",
     "output_type": "stream",
     "text": [
      "Horizontal shear attempted in line 0\n",
      "Cumulative strength is 12.0 and the shear probabiliy therefore 0.4\n",
      "Horizontal shear attempted in line 1\n",
      "Cumulative strength is 12.0 and the shear probabiliy therefore 0.4\n",
      "Horizontal shear attempted in line 2\n",
      "Cumulative strength is 12.0 and the shear probabiliy therefore 0.4\n",
      "Horizontal shear attempted in line 9\n",
      "Cumulative strength is 12.0 and the shear probabiliy therefore 0.4\n",
      "Horizontal shear attempted in line 3\n",
      "Cumulative strength is 12.0 and the shear probabiliy therefore 0.4\n",
      "Horizontal shear attempted in line 1\n",
      "Cumulative strength is 12.0 and the shear probabiliy therefore 0.4\n",
      "Horizontal shear attempted in line 0\n",
      "Cumulative strength is 12.0 and the shear probabiliy therefore 0.4\n",
      "Horizontal shear successful at line 0!\n",
      "Step 6\n"
     ]
    },
    {
     "data": {
      "image/png": "[encoded data removed]",
      "text/plain": [
       "<Figure size 432x288 with 1 Axes>"
      ]
     },
     "metadata": {
      "needs_background": "light"
     },
     "output_type": "display_data"
    },
    {
     "data": {
      "image/png": "[encoded data removed]",
      "text/plain": [
       "<Figure size 432x288 with 1 Axes>"
      ]
     },
     "metadata": {
      "needs_background": "light"
     },
     "output_type": "display_data"
    },
    {
     "name": "stdout",
     "output_type": "stream",
     "text": [
      "Horizontal shear attempted in line 2\n",
      "Cumulative strength is 12.0 and the shear probabiliy therefore 0.4\n",
      "Horizontal shear successful at line 2!\n",
      "Step 7\n"
     ]
    },
    {
     "data": {
      "image/png": "[encoded data removed]",
      "text/plain": [
       "<Figure size 432x288 with 1 Axes>"
      ]
     },
     "metadata": {
      "needs_background": "light"
     },
     "output_type": "display_data"
    },
    {
     "data": {
      "image/png": "[encoded data removed]",
      "text/plain": [
       "<Figure size 432x288 with 1 Axes>"
      ]
     },
     "metadata": {
      "needs_background": "light"
     },
     "output_type": "display_data"
    },
    {
     "name": "stdout",
     "output_type": "stream",
     "text": [
      "Horizontal shear attempted in line 9\n",
      "Cumulative strength is 12.0 and the shear probabiliy therefore 0.4\n",
      "Horizontal shear attempted in line 4\n",
      "Cumulative strength is 12.0 and the shear probabiliy therefore 0.4\n",
      "Horizontal shear attempted in line 1\n",
      "Cumulative strength is 12.0 and the shear probabiliy therefore 0.4\n",
      "Horizontal shear successful at line 1!\n",
      "Step 8\n"
     ]
    },
    {
     "data": {
      "image/png": "[encoded data removed]",
      "text/plain": [
       "<Figure size 432x288 with 1 Axes>"
      ]
     },
     "metadata": {
      "needs_background": "light"
     },
     "output_type": "display_data"
    },
    {
     "data": {
      "image/png": "[encoded data removed]",
      "text/plain": [
       "<Figure size 432x288 with 1 Axes>"
      ]
     },
     "metadata": {
      "needs_background": "light"
     },
     "output_type": "display_data"
    },
    {
     "name": "stdout",
     "output_type": "stream",
     "text": [
      "Horizontal shear attempted in line 6\n",
      "Cumulative strength is 12.0 and the shear probabiliy therefore 0.4\n",
      "Horizontal shear successful at line 6!\n",
      "Step 9\n"
     ]
    },
    {
     "data": {
      "image/png": "[encoded data removed]",
      "text/plain": [
       "<Figure size 432x288 with 1 Axes>"
      ]
     },
     "metadata": {
      "needs_background": "light"
     },
     "output_type": "display_data"
    },
    {
     "data": {
      "image/png": "[encoded data removed]",
      "text/plain": [
       "<Figure size 432x288 with 1 Axes>"
      ]
     },
     "metadata": {
      "needs_background": "light"
     },
     "output_type": "display_data"
    }
   ],
   "source": [
    "shear_counts_horizontal = np.zeros(grid_size, dtype=np.int64)\n",
    "shear_counts_vertical   = np.zeros(grid_size, dtype=np.int64)\n",
    "\n",
    "for i in range(10):\n",
    "    shear_line = shear_step_with_hydrogen(metal_grid              = metal_grid,\n",
    "                                          hydrogen_grid           = hydrogen_grid,\n",
    "                                          shear_counts_horizontal = shear_counts_horizontal,\n",
    "                                          shear_counts_vertical   = shear_counts_vertical, \n",
    "                                          shear_type              = 0,\n",
    "                                          strength_A              = 1,\n",
    "                                          strength_B              = 0.2,\n",
    "                                          max_attempts            = 10)\n",
    "    print(f\"Step {i}\")\n",
    "    #print(metal_grid)\n",
    "    #print(f\"Size of the grid: {grid.size}\")\n",
    "    plt.figure()\n",
    "    plt.imshow(metal_grid)\n",
    "    plt.plot( [0, metal_grid.shape[1]-1], [shear_line, shear_line], \"-\")\n",
    "    plt.show()\n",
    "    plt.imshow(hydrogen_grid)\n",
    "    plt.plot( [0, metal_grid.shape[1]-1], [shear_line, shear_line], \"-\")\n",
    "    plt.show()"
   ]
  },
  {
   "cell_type": "markdown",
   "id": "911178d5",
   "metadata": {},
   "source": [
    "---\n",
    "\n",
    "### def calculate_metal_hydrogen_interaction_energy(x, y, metal_grid, hydrogen_grid, E_AH, E_BH):\n",
    "\n",
    "#### Physical Interpretation:\n",
    "\n",
    "The function now correctly computes the interaction energy between ***a single metal atom and its surrounding hydrogen atoms***, taking periodic boundary conditions into account. This means that hydrogen atoms on the opposite edges of the grid will still interact with metal atoms near the boundaries.\n",
    "\n",
    "---"
   ]
  },
  {
   "cell_type": "code",
   "execution_count": 48,
   "id": "ef0a3480",
   "metadata": {},
   "outputs": [],
   "source": [
    "# Function to calculate interaction energy between metal atom and neighboring hydrogen sites\n",
    "def calculate_metal_hydrogen_interaction_energy(x, y, metal_grid, hydrogen_grid, E_AH, E_BH):\n",
    "    \"\"\"\n",
    "    Function to calculate the interaction energy between a metal atom and its neighboring hydrogen sites.\n",
    "    The function considers the four interstitial hydrogen sites surrounding the metal atom, and accounts \n",
    "    for periodic boundary conditions to ensure correct interactions at the grid boundaries.\n",
    "    \n",
    "    Parameters:\n",
    "    x, y:                  int, Coordinates of the metal atom on the metal grid.\n",
    "    metal_grid:            2D numpy array, grid representing metal atoms (A and B) in the system.\n",
    "    hydrogen_grid:         2D numpy array, grid representing the presence of hydrogen atoms in the interstitial sites.\n",
    "    E_AH:                  float, interaction energy between metal A atoms and hydrogen.\n",
    "    E_BH:                  float, interaction energy between metal B atoms and hydrogen.\n",
    "    \n",
    "    Returns:\n",
    "    energy:                float, total interaction energy between the metal atom and its neighboring hydrogen sites.\n",
    "    \"\"\"\n",
    "    energy = 0\n",
    "    # Define the four neighboring hydrogen sites around the metal atom\n",
    "    neighbors = [(x, y), (x, (y-1) % grid_size), ((x-1) % grid_size, y), ((x-1) % grid_size, (y-1) % grid_size)]\n",
    "    \n",
    "    metal = metal_grid[x, y]  # Get the metal type (A or B)\n",
    "    \n",
    "    # Loop over the neighbors and calculate the interaction energy\n",
    "    for nx, ny in neighbors:\n",
    "        hydrogen_site = hydrogen_grid[nx, ny]\n",
    "        if hydrogen_site == 1:  # Check if hydrogen is present\n",
    "            if metal == 0:  # Metal A\n",
    "                energy += E_AH\n",
    "            else:  # Metal B\n",
    "                energy += E_BH\n",
    "    \n",
    "    return energy"
   ]
  },
  {
   "cell_type": "markdown",
   "id": "79cdfe69",
   "metadata": {},
   "source": [
    "#### Demonstration"
   ]
  },
  {
   "cell_type": "code",
   "execution_count": 49,
   "id": "16215ea3",
   "metadata": {},
   "outputs": [],
   "source": [
    "# If you want to start a new simulation you can re-initialize the grid here\n",
    "grid_size = 4\n",
    "metal_grid = initialize_metal_grid(grid_size)\n",
    "hydrogen_grid = initialize_hydrogen_grid(grid_size)"
   ]
  },
  {
   "cell_type": "code",
   "execution_count": 50,
   "id": "d05a7ed2",
   "metadata": {},
   "outputs": [
    {
     "name": "stdout",
     "output_type": "stream",
     "text": [
      "[[0 0 1 1]\n",
      " [0 0 1 1]\n",
      " [1 1 0 0]\n",
      " [1 1 0 0]]\n",
      "Size of the grid: 16\n"
     ]
    }
   ],
   "source": [
    "print(metal_grid)\n",
    "print(f\"Size of the grid: {metal_grid.size}\")"
   ]
  },
  {
   "cell_type": "code",
   "execution_count": 51,
   "id": "48bb857a",
   "metadata": {},
   "outputs": [
    {
     "name": "stdout",
     "output_type": "stream",
     "text": [
      "[[1 1 0 0]\n",
      " [1 1 0 0]\n",
      " [0 0 1 1]\n",
      " [0 0 1 1]]\n",
      "Size of the grid: 16\n"
     ]
    }
   ],
   "source": [
    "print(hydrogen_grid)\n",
    "print(f\"Size of the grid: {hydrogen_grid.size}\")"
   ]
  },
  {
   "cell_type": "code",
   "execution_count": 52,
   "id": "db298fd8",
   "metadata": {},
   "outputs": [
    {
     "data": {
      "text/plain": [
       "0"
      ]
     },
     "execution_count": 52,
     "metadata": {},
     "output_type": "execute_result"
    }
   ],
   "source": [
    "calculate_metal_hydrogen_interaction_energy(1, 3, metal_grid, hydrogen_grid, E_AH=-1, E_BH=0.5)"
   ]
  },
  {
   "cell_type": "markdown",
   "id": "3589d556",
   "metadata": {},
   "source": [
    "---\n",
    "### metal_diffusion_step_with_hydrogen(metal_grid, hydrogen_grid, kT, E_same, E_diff, E_AH, E_BH):\n",
    "\n",
    "#### Physical Interpretation:\n",
    "\n",
    "This Monte Carlo diffusion step models atom movement on the grid based on energy considerations.\n",
    "\n",
    "Atoms attempt to move (swap) with their neighbors, and the system only accepts moves that lead to a lower energy or those that are energetically unfavorable but are allowed with some probability (depending on temperature).\n",
    "\n",
    "This step mimics diffusion processes in real materials, where atoms move in response to local energy differences, but thermal fluctuations (controlled by kT) also allow atoms to occasionally move to higher-energy positions.\n",
    "\n",
    "Over many MC steps, this process leads to the gradual evolution of the system toward thermodynamic equilibrium, where the distribution of atoms tends to minimize the overall energy.\n",
    "\n",
    "---"
   ]
  },
  {
   "cell_type": "code",
   "execution_count": 53,
   "id": "1a2ca0a0",
   "metadata": {},
   "outputs": [],
   "source": [
    "# Function to perform a metal diffusion step considering both metal-metal and metal-hydrogen interactions with periodic boundary conditions\n",
    "def metal_diffusion_step_with_hydrogen(metal_grid, hydrogen_grid, kT, E_AA, E_BB, E_AB, E_AH, E_BH):\n",
    "    \"\"\"\n",
    "    Function to perform a single metal diffusion step in the system, considering both metal-metal and \n",
    "    metal-hydrogen interactions with periodic boundary conditions. The function randomly selects a metal \n",
    "    atom and one of its neighbors, attempts to swap them, and applies the Metropolis criterion to determine \n",
    "    if the swap is accepted. Periodic boundary conditions are applied to ensure that atoms near the edges \n",
    "    of the grid interact correctly with atoms on the opposite side.\n",
    "    \n",
    "    Parameters:\n",
    "    - metal_grid          : 2D numpy array, grid representing metal atoms (A and B) in the system.\n",
    "    - hydrogen_grid       : 2D numpy array, grid representing the presence of hydrogen atoms in the interstitial sites.\n",
    "    - kT                  : float, thermal energy factor (k * T), controlling the acceptance of energetically unfavorable moves.\n",
    "    - E_AA                : float, interaction energy between A-A atoms.\n",
    "    - E_BB                : float, interaction energy between B-B atoms.\n",
    "    - E_AB                : float, interaction energy between A-B atoms.\n",
    "    - E_AH                : float, interaction energy between metal A atoms and hydrogen.\n",
    "    - E_BH                : float, interaction energy between metal B atoms and hydrogen.\n",
    "    \n",
    "    Returns:\n",
    "                        : None, function modifies the metal grid in place by either accepting or rejecting the atom swap.\n",
    "\"\"\"\n",
    "    # Select a random metal atom\n",
    "    x, y = np.random.randint(0, grid_size), np.random.randint(0, grid_size)\n",
    "\n",
    "    # Select a random neighboring site (up, down, left, right)\n",
    "    direction = np.random.randint(0, 4)\n",
    "    if direction == 0: nx, ny = (x - 1) % grid_size, y  # Up\n",
    "    elif direction == 1: nx, ny = (x + 1) % grid_size, y  # Down\n",
    "    elif direction == 2: nx, ny = x, (y - 1) % grid_size  # Left\n",
    "    else: nx, ny = x, (y + 1) % grid_size  # Right\n",
    "    \n",
    "    # Early exit if atoms are identical (no need to swap)\n",
    "    if metal_grid[x, y] == metal_grid[nx, ny]:\n",
    "        print(\"Successful Hydrogen self-diffusion - No changes expected!\")\n",
    "        return True, x, y, nx, ny # x, y, nx, ny only returned in tutorial # jump would be successful and therefore return True\n",
    "\n",
    "    # Calculate the initial energy (metal-metal and metal-hydrogen interactions) before the swap\n",
    "    initial_energy = (calculate_metal_metal_interaction_energy(   x,   y, metal_grid, E_AA, E_BB, E_AB) + \n",
    "                      calculate_metal_hydrogen_interaction_energy(x,   y, metal_grid, hydrogen_grid, E_AH, E_BH)) + \\\n",
    "                     (calculate_metal_metal_interaction_energy(   nx, ny, metal_grid, E_AA, E_BB, E_AB) + \n",
    "                      calculate_metal_hydrogen_interaction_energy(nx, ny, metal_grid, hydrogen_grid, E_AH, E_BH))\n",
    "\n",
    "    # Swap the metal atoms\n",
    "    metal_grid[x, y], metal_grid[nx, ny] = metal_grid[nx, ny], metal_grid[x, y]\n",
    "\n",
    "    # Calculate the final energy (metal-metal and metal-hydrogen interactions) after the swap\n",
    "    final_energy = (calculate_metal_metal_interaction_energy(   x,   y, metal_grid, E_AA, E_BB, E_AB) + \n",
    "                    calculate_metal_hydrogen_interaction_energy(x,   y, metal_grid, hydrogen_grid, E_AH, E_BH)) + \\\n",
    "                   (calculate_metal_metal_interaction_energy(   nx, ny, metal_grid, E_AA, E_BB, E_AB) + \n",
    "                    calculate_metal_hydrogen_interaction_energy(nx, ny, metal_grid, hydrogen_grid, E_AH, E_BH))\n",
    "\n",
    "    # Calculate the energy change\n",
    "    delta_E = final_energy - initial_energy\n",
    "\n",
    "    # ONLY FOR TUTORIAL\n",
    "    print(f\"Trying to swap positions ({x},{y}) with ({nx},{ny}) - The change in energy is {delta_E}\")\n",
    "\n",
    "    accept = True\n",
    "    # Apply the Metropolis criterion: if the energy increases, accept with a probability exp(-delta_E / kT)\n",
    "    if delta_E > 0 and np.exp(-delta_E / kT) < np.random.rand():\n",
    "        accept = False\n",
    "        # If the move is rejected, reverse the swap\n",
    "        metal_grid[x, y], metal_grid[nx, ny] = metal_grid[nx, ny], metal_grid[x, y]  \n",
    "     \n",
    "    # ONLY FOR TUTORIAL\n",
    "    if accept == True:\n",
    "        print(\"Jump accepted!\")\n",
    "    else:\n",
    "        print(\"Jump rejected!\")\n",
    "        \n",
    "    return accept, x, y, nx, ny # x, y, nx, ny only returned in tutorial\n"
   ]
  },
  {
   "cell_type": "markdown",
   "id": "9a12e13a",
   "metadata": {},
   "source": [
    "#### Demonstration"
   ]
  },
  {
   "cell_type": "code",
   "execution_count": 54,
   "id": "48007a40",
   "metadata": {},
   "outputs": [],
   "source": [
    "# If you want to start a new simulation you can re-initialize the grid here\n",
    "grid_size = 10\n",
    "metal_grid = initialize_metal_grid(grid_size)\n",
    "hydrogen_grid = initialize_hydrogen_grid(grid_size)"
   ]
  },
  {
   "cell_type": "code",
   "execution_count": 55,
   "id": "4daf5e31",
   "metadata": {},
   "outputs": [
    {
     "name": "stdout",
     "output_type": "stream",
     "text": [
      "Size of the grid: 100\n"
     ]
    },
    {
     "data": {
      "text/plain": [
       "<matplotlib.image.AxesImage at 0x1c41f0e0640>"
      ]
     },
     "execution_count": 55,
     "metadata": {},
     "output_type": "execute_result"
    },
    {
     "data": {
      "image/png": "[encoded data removed]",
      "text/plain": [
       "<Figure size 432x288 with 1 Axes>"
      ]
     },
     "metadata": {
      "needs_background": "light"
     },
     "output_type": "display_data"
    }
   ],
   "source": [
    "#print(metal_grid)\n",
    "print(f\"Size of the grid: {metal_grid.size}\")\n",
    "plt.imshow(metal_grid)"
   ]
  },
  {
   "cell_type": "code",
   "execution_count": 56,
   "id": "644ac3ab",
   "metadata": {},
   "outputs": [
    {
     "name": "stdout",
     "output_type": "stream",
     "text": [
      "Size of the grid: 100\n"
     ]
    },
    {
     "data": {
      "text/plain": [
       "<matplotlib.image.AxesImage at 0x1c41eff8b50>"
      ]
     },
     "execution_count": 56,
     "metadata": {},
     "output_type": "execute_result"
    },
    {
     "data": {
      "image/png": "[encoded data removed]",
      "text/plain": [
       "<Figure size 432x288 with 1 Axes>"
      ]
     },
     "metadata": {
      "needs_background": "light"
     },
     "output_type": "display_data"
    }
   ],
   "source": [
    "#print(hydrogen_grid)\n",
    "print(f\"Size of the grid: {hydrogen_grid.size}\")\n",
    "plt.imshow(hydrogen_grid)"
   ]
  },
  {
   "cell_type": "code",
   "execution_count": 57,
   "id": "f06d3ac5",
   "metadata": {
    "scrolled": false
   },
   "outputs": [
    {
     "name": "stdout",
     "output_type": "stream",
     "text": [
      "Successful Hydrogen self-diffusion - No changes expected!\n"
     ]
    },
    {
     "data": {
      "image/png": "[encoded data removed]",
      "text/plain": [
       "<Figure size 432x288 with 1 Axes>"
      ]
     },
     "metadata": {
      "needs_background": "light"
     },
     "output_type": "display_data"
    },
    {
     "data": {
      "image/png": "[encoded data removed]",
      "text/plain": [
       "<Figure size 432x288 with 1 Axes>"
      ]
     },
     "metadata": {
      "needs_background": "light"
     },
     "output_type": "display_data"
    },
    {
     "name": "stdout",
     "output_type": "stream",
     "text": [
      "Successful Hydrogen self-diffusion - No changes expected!\n"
     ]
    },
    {
     "data": {
      "image/png": "[encoded data removed]",
      "text/plain": [
       "<Figure size 432x288 with 1 Axes>"
      ]
     },
     "metadata": {
      "needs_background": "light"
     },
     "output_type": "display_data"
    },
    {
     "data": {
      "image/png": "[encoded data removed]",
      "text/plain": [
       "<Figure size 432x288 with 1 Axes>"
      ]
     },
     "metadata": {
      "needs_background": "light"
     },
     "output_type": "display_data"
    },
    {
     "name": "stdout",
     "output_type": "stream",
     "text": [
      "Successful Hydrogen self-diffusion - No changes expected!\n"
     ]
    },
    {
     "data": {
      "image/png": "[encoded data removed]",
      "text/plain": [
       "<Figure size 432x288 with 1 Axes>"
      ]
     },
     "metadata": {
      "needs_background": "light"
     },
     "output_type": "display_data"
    },
    {
     "data": {
      "image/png": "[encoded data removed]",
      "text/plain": [
       "<Figure size 432x288 with 1 Axes>"
      ]
     },
     "metadata": {
      "needs_background": "light"
     },
     "output_type": "display_data"
    },
    {
     "name": "stdout",
     "output_type": "stream",
     "text": [
      "Successful Hydrogen self-diffusion - No changes expected!\n"
     ]
    },
    {
     "data": {
      "image/png": "[encoded data removed]",
      "text/plain": [
       "<Figure size 432x288 with 1 Axes>"
      ]
     },
     "metadata": {
      "needs_background": "light"
     },
     "output_type": "display_data"
    },
    {
     "data": {
      "image/png": "[encoded data removed]",
      "text/plain": [
       "<Figure size 432x288 with 1 Axes>"
      ]
     },
     "metadata": {
      "needs_background": "light"
     },
     "output_type": "display_data"
    },
    {
     "name": "stdout",
     "output_type": "stream",
     "text": [
      "Successful Hydrogen self-diffusion - No changes expected!\n"
     ]
    },
    {
     "data": {
      "image/png": "[encoded data removed]",
      "text/plain": [
       "<Figure size 432x288 with 1 Axes>"
      ]
     },
     "metadata": {
      "needs_background": "light"
     },
     "output_type": "display_data"
    },
    {
     "data": {
      "image/png": "[encoded data removed]",
      "text/plain": [
       "<Figure size 432x288 with 1 Axes>"
      ]
     },
     "metadata": {
      "needs_background": "light"
     },
     "output_type": "display_data"
    },
    {
     "name": "stdout",
     "output_type": "stream",
     "text": [
      "Successful Hydrogen self-diffusion - No changes expected!\n"
     ]
    },
    {
     "data": {
      "image/png": "[encoded data removed]",
      "text/plain": [
       "<Figure size 432x288 with 1 Axes>"
      ]
     },
     "metadata": {
      "needs_background": "light"
     },
     "output_type": "display_data"
    },
    {
     "data": {
      "image/png": "[encoded data removed]",
      "text/plain": [
       "<Figure size 432x288 with 1 Axes>"
      ]
     },
     "metadata": {
      "needs_background": "light"
     },
     "output_type": "display_data"
    },
    {
     "name": "stdout",
     "output_type": "stream",
     "text": [
      "Successful Hydrogen self-diffusion - No changes expected!\n"
     ]
    },
    {
     "data": {
      "image/png": "[encoded data removed]",
      "text/plain": [
       "<Figure size 432x288 with 1 Axes>"
      ]
     },
     "metadata": {
      "needs_background": "light"
     },
     "output_type": "display_data"
    },
    {
     "data": {
      "image/png": "[encoded data removed]",
      "text/plain": [
       "<Figure size 432x288 with 1 Axes>"
      ]
     },
     "metadata": {
      "needs_background": "light"
     },
     "output_type": "display_data"
    },
    {
     "name": "stdout",
     "output_type": "stream",
     "text": [
      "Successful Hydrogen self-diffusion - No changes expected!\n"
     ]
    },
    {
     "data": {
      "image/png": "[encoded data removed]",
      "text/plain": [
       "<Figure size 432x288 with 1 Axes>"
      ]
     },
     "metadata": {
      "needs_background": "light"
     },
     "output_type": "display_data"
    },
    {
     "data": {
      "image/png": "[encoded data removed]",
      "text/plain": [
       "<Figure size 432x288 with 1 Axes>"
      ]
     },
     "metadata": {
      "needs_background": "light"
     },
     "output_type": "display_data"
    },
    {
     "name": "stdout",
     "output_type": "stream",
     "text": [
      "Successful Hydrogen self-diffusion - No changes expected!\n"
     ]
    },
    {
     "data": {
      "image/png": "[encoded data removed]",
      "text/plain": [
       "<Figure size 432x288 with 1 Axes>"
      ]
     },
     "metadata": {
      "needs_background": "light"
     },
     "output_type": "display_data"
    },
    {
     "data": {
      "image/png": "[encoded data removed]",
      "text/plain": [
       "<Figure size 432x288 with 1 Axes>"
      ]
     },
     "metadata": {
      "needs_background": "light"
     },
     "output_type": "display_data"
    },
    {
     "name": "stdout",
     "output_type": "stream",
     "text": [
      "Trying to swap positions (7,9) with (7,0) - The change in energy is -2\n",
      "Jump accepted!\n"
     ]
    },
    {
     "data": {
      "image/png": "[encoded data removed]",
      "text/plain": [
       "<Figure size 432x288 with 1 Axes>"
      ]
     },
     "metadata": {
      "needs_background": "light"
     },
     "output_type": "display_data"
    },
    {
     "data": {
      "image/png": "[encoded data removed]",
      "text/plain": [
       "<Figure size 432x288 with 1 Axes>"
      ]
     },
     "metadata": {
      "needs_background": "light"
     },
     "output_type": "display_data"
    }
   ],
   "source": [
    "kT = 1\n",
    "E_AA = 0\n",
    "E_BB = 0\n",
    "E_AB = -1\n",
    "E_AH = -1\n",
    "E_BH = 1\n",
    "\n",
    "# Initialize counter for successful jumps\n",
    "successful_jumps = 0\n",
    "total_steps = 10  # Total number of Monte Carlo steps\n",
    "\n",
    "\n",
    "for i in range(total_steps):\n",
    "    # Save the state of the grid before attempting the Monte Carlo step\n",
    "    previous_grid = metal_grid.copy()\n",
    "    \n",
    "    # Perform one Monte Carlo step\n",
    "    _, x, y, nx, ny = metal_diffusion_step_with_hydrogen(metal_grid, hydrogen_grid, kT, E_AA=E_AA, E_BB=E_BB, E_AB=E_AB, E_AH=E_AH, E_BH=E_BH) \n",
    "\n",
    "    # Print the final grid\n",
    "    plt.imshow(metal_grid)\n",
    "    plt.plot(y, x, \"o\", color=\"red\")\n",
    "    plt.plot(ny, nx, \"s\", color=\"red\")\n",
    "    plt.show()\n",
    "    plt.imshow(hydrogen_grid)\n",
    "    plt.plot(y, x, \"o\", color=\"red\")\n",
    "    plt.plot(ny, nx, \"s\", color=\"red\")\n",
    "    plt.show()\n"
   ]
  },
  {
   "cell_type": "markdown",
   "id": "c2289325",
   "metadata": {},
   "source": [
    "---\n",
    "\n",
    "### def calculate_hydrogen_metal_interaction_energy(x, y, hydrogen_grid, metal_grid, E_AH, E_BH):\n",
    "\n",
    "Hydrogen atoms in the interstitial sites between metal atoms interact with the surrounding metals. Depending on whether the metal is type A or B, the interaction energy differs. This function calculates the sum of the interaction energies for the hydrogen atom at position (x, y).\n",
    "\n",
    "\n",
    "        \n",
    "---"
   ]
  },
  {
   "cell_type": "code",
   "execution_count": 58,
   "id": "32197ec0",
   "metadata": {},
   "outputs": [],
   "source": [
    "# Function to calculate interaction energy of hydrogen atoms with surrounding metals, including periodic boundary conditions\n",
    "def calculate_hydrogen_metal_interaction_energy(x, y, hydrogen_grid, metal_grid, E_AH, E_BH):\n",
    "    \"\"\"\n",
    "    Function to calculate the interaction energy between a hydrogen atom and its surrounding metal atoms.\n",
    "    This function assumes periodic boundary conditions, so if the hydrogen atom is near the edge of the grid,\n",
    "    it still interacts with metal atoms on the opposite side.\n",
    "    \n",
    "    Parameters:\n",
    "    x, y                : int, coordinates of the hydrogen atom on the hydrogen grid.\n",
    "    hydrogen_grid       : 2D numpy array, grid representing the presence of hydrogen atoms in the interstitial sites.\n",
    "    metal_grid          : 2D numpy array, grid representing metal atoms (A and B) in the system.\n",
    "    E_AH                : float, interaction energy between metal A atoms and hydrogen.\n",
    "    E_BH                : float, interaction energy between metal B atoms and hydrogen.\n",
    "    \n",
    "    Returns:\n",
    "    energy              : float, total interaction energy between the hydrogen atom and its surrounding metal atoms.\n",
    "    \"\"\"\n",
    "    energy = 0\n",
    "    if hydrogen_grid[x, y] == 1:  # Check if there's a hydrogen atom at (x, y)\n",
    "        # Get the surrounding metal atoms with periodic boundary conditions,\n",
    "        # Similar but opposite to the metal-hydrogen interactions, as in reallity the hydrogen grid lies inbetween the metal grid\n",
    "        metal_1 = metal_grid[x % grid_size, y % grid_size]\n",
    "        metal_2 = metal_grid[x % grid_size, (y+1) % grid_size]\n",
    "        metal_3 = metal_grid[(x+1) % grid_size, y % grid_size]\n",
    "        metal_4 = metal_grid[(x+1) % grid_size, (y+1) % grid_size]\n",
    "        \n",
    "        # Calculate interaction energy between hydrogen and surrounding metal atoms\n",
    "        # Similar to the code calculating the metal-hydrogen interactions,\n",
    "        # but here we can assume that the hydrogen site is occupied, i.e., 1\n",
    "        for metal in [metal_1, metal_2, metal_3, metal_4]:\n",
    "            if metal == 0:  # Metal A\n",
    "                energy += E_AH\n",
    "            else:  # Metal B\n",
    "                energy += E_BH\n",
    "    return energy"
   ]
  },
  {
   "cell_type": "markdown",
   "id": "a94ae32b",
   "metadata": {},
   "source": [
    "#### Demonstration"
   ]
  },
  {
   "cell_type": "code",
   "execution_count": 59,
   "id": "469a485b",
   "metadata": {},
   "outputs": [],
   "source": [
    "# If you want to start a new simulation you can re-initialize the grid here\n",
    "grid_size = 4\n",
    "metal_grid = initialize_metal_grid(grid_size)\n",
    "hydrogen_grid = initialize_hydrogen_grid(grid_size)"
   ]
  },
  {
   "cell_type": "code",
   "execution_count": 60,
   "id": "fab5b585",
   "metadata": {},
   "outputs": [
    {
     "name": "stdout",
     "output_type": "stream",
     "text": [
      "[[0 0 1 1]\n",
      " [0 0 1 1]\n",
      " [1 1 0 0]\n",
      " [1 1 0 0]]\n"
     ]
    },
    {
     "data": {
      "text/plain": [
       "<matplotlib.image.AxesImage at 0x1c4381e5520>"
      ]
     },
     "execution_count": 60,
     "metadata": {},
     "output_type": "execute_result"
    },
    {
     "data": {
      "image/png": "[encoded data removed]",
      "text/plain": [
       "<Figure size 432x288 with 1 Axes>"
      ]
     },
     "metadata": {
      "needs_background": "light"
     },
     "output_type": "display_data"
    }
   ],
   "source": [
    "print(metal_grid)\n",
    "plt.imshow(metal_grid)"
   ]
  },
  {
   "cell_type": "code",
   "execution_count": 61,
   "id": "083ede57",
   "metadata": {},
   "outputs": [
    {
     "name": "stdout",
     "output_type": "stream",
     "text": [
      "[[1 1 0 0]\n",
      " [1 1 0 0]\n",
      " [0 0 1 1]\n",
      " [0 0 1 1]]\n"
     ]
    },
    {
     "data": {
      "text/plain": [
       "<matplotlib.image.AxesImage at 0x1c438344940>"
      ]
     },
     "execution_count": 61,
     "metadata": {},
     "output_type": "execute_result"
    },
    {
     "data": {
      "image/png": "[encoded data removed]",
      "text/plain": [
       "<Figure size 432x288 with 1 Axes>"
      ]
     },
     "metadata": {
      "needs_background": "light"
     },
     "output_type": "display_data"
    }
   ],
   "source": [
    "print(hydrogen_grid)\n",
    "plt.imshow(hydrogen_grid)"
   ]
  },
  {
   "cell_type": "code",
   "execution_count": 62,
   "id": "470cb3a8",
   "metadata": {},
   "outputs": [
    {
     "data": {
      "text/plain": [
       "0"
      ]
     },
     "execution_count": 62,
     "metadata": {},
     "output_type": "execute_result"
    }
   ],
   "source": [
    "x = 2\n",
    "y = 0\n",
    "E_AH = -1\n",
    "E_BH = 0.5\n",
    "\n",
    "calculate_hydrogen_metal_interaction_energy(x, y, hydrogen_grid, metal_grid, E_AH, E_BH)"
   ]
  },
  {
   "cell_type": "markdown",
   "id": "a35f01f8",
   "metadata": {},
   "source": [
    "---\n",
    "### def hydrogen_diffusion_step(hydrogen_grid, metal_grid, kT, E_AH, E_BH):\n",
    "\n",
    "#### Physical Interpretation:\n",
    "\n",
    "Hydrogen Diffusion:\n",
    "\n",
    "    This function models the diffusion of hydrogen atoms in the interstitial sites of a metal lattice. Hydrogen atoms can move to neighboring empty sites, driven by thermal energy and interaction energies between hydrogen and surrounding metal atoms.\n",
    "\n",
    "Metropolis Criterion:\n",
    "\n",
    "    Similar to the metal diffusion process, the Metropolis criterion governs whether a hydrogen atom moves to a neighboring site based on the energy difference. This criterion ensures that while the system tends towards lower energy, it occasionally accepts moves that increase energy, allowing for thermal fluctuations.\n",
    "\n",
    "Periodic Boundary Conditions:\n",
    "\n",
    "    The periodic boundary conditions allow hydrogen atoms near the edges of the grid to interact and move across the grid boundaries, simulating a continuous, infinite lattice.\n",
    "    \n",
    "---"
   ]
  },
  {
   "cell_type": "code",
   "execution_count": 63,
   "id": "cc9b3482",
   "metadata": {},
   "outputs": [],
   "source": [
    "# Function to perform a metal diffusion step considering both metal-hydrogen interactions with periodic boundary conditions\n",
    "def hydrogen_diffusion_step(hydrogen_grid, metal_grid, kT, E_AH, E_BH, hydrogen_positions):\n",
    "    \"\"\"\n",
    "    Function to perform a hydrogen diffusion step in the system, considering interaction with neighboring metal atoms\n",
    "    and periodic boundary conditions. A hydrogen atom is randomly selected and swapped with a neighboring empty site,\n",
    "    and the Metropolis criterion is applied to decide whether the swap is accepted based on the energy change.\n",
    "    \n",
    "    Parameters:\n",
    "    hydrogen_grid       : 2D numpy array, grid representing the presence of hydrogen atoms in the interstitial sites.\n",
    "    metal_grid          : 2D numpy array, grid representing metal atoms (A and B) in the system.\n",
    "    kT                  : float, thermal energy factor (k * T), controlling the acceptance of energetically unfavorable moves.\n",
    "    E_AH                : float, interaction energy between metal A atoms and hydrogen.\n",
    "    E_BH                : float, interaction energy between metal B atoms and hydrogen.\n",
    "    \n",
    "    Returns:\n",
    "    accept              : bool, returns True if a successful diffusion attempt has been performed.\n",
    "    \"\"\"\n",
    "    # Select a random hydrogen atom\n",
    "    idx = np.random.randint(0, len(hydrogen_positions))\n",
    "    x, y = hydrogen_positions[idx]\n",
    "    \n",
    "    # Select a random neighbor (up, down, left, right)\n",
    "    direction = np.random.randint(0, 4)\n",
    "    if direction == 0: nx, ny = (x - 1) % grid_size, y  # Up\n",
    "    elif direction == 1: nx, ny = (x + 1) % grid_size, y  # Down\n",
    "    elif direction == 2: nx, ny = x, (y - 1) % grid_size  # Left\n",
    "    else: nx, ny = x, (y + 1) % grid_size  # Right\n",
    "\n",
    "    # Ensure the chosen site is empty (avoid unnecessary swaps)\n",
    "    if hydrogen_grid[nx, ny] == 1:\n",
    "        print(\"Successful hydrogen self-diffusion - No changes expected!\")\n",
    "        return True, x, y, nx, ny  # No swap possible, return early, jump would be successful and therefore return True\n",
    "\n",
    "    # Calculate the initial energy (before the swap)\n",
    "    initial_energy = calculate_hydrogen_metal_interaction_energy(x, y, hydrogen_grid, metal_grid, E_AH, E_BH)\n",
    "\n",
    "    # Swap hydrogen atoms\n",
    "    hydrogen_grid[x, y], hydrogen_grid[nx, ny] = hydrogen_grid[nx, ny], hydrogen_grid[x, y]\n",
    "\n",
    "    # Calculate the final energy (after the swap)\n",
    "    final_energy = calculate_hydrogen_metal_interaction_energy(nx, ny, hydrogen_grid, metal_grid, E_AH, E_BH)\n",
    "\n",
    "    # Calculate the energy change\n",
    "    delta_E = final_energy - initial_energy\n",
    "\n",
    "    # ONLY FOR TUTORIAL\n",
    "    print(f\"Trying to swap positions ({x},{y}) with ({nx},{ny}) - The change in energy is {delta_E}\")\n",
    "    \n",
    "    accept = True\n",
    "    # Apply the Metropolis criterion\n",
    "    if delta_E > 0 and np.exp(-delta_E / kT) < np.random.rand():\n",
    "        accept = False\n",
    "        # Revert the hydrogen swap if the move is rejected\n",
    "        hydrogen_grid[x, y], hydrogen_grid[nx, ny] = hydrogen_grid[nx, ny], hydrogen_grid[x, y]\n",
    "        \n",
    "    # Update Hydrogen Position Array\n",
    "    if accept:\n",
    "        hydrogen_positions[idx, 0] = nx  # Update x-coordinate\n",
    "        hydrogen_positions[idx, 1] = ny  # Update y-coordinate\n",
    "        \n",
    "    # ONLY FOR TUTORIAL\n",
    "    if accept == True:\n",
    "        print(\"Jump accepted!\")\n",
    "    else:\n",
    "        print(\"Jump rejected!\")\n",
    "\n",
    "    return accept, x, y, nx, ny\n"
   ]
  },
  {
   "cell_type": "markdown",
   "id": "debdb8fd",
   "metadata": {},
   "source": [
    "#### Demonstration"
   ]
  },
  {
   "cell_type": "code",
   "execution_count": 64,
   "id": "d41b97f9",
   "metadata": {},
   "outputs": [],
   "source": [
    "# If you want to start a new simulation you can re-initialize the grid here\n",
    "grid_size = 10\n",
    "metal_grid = initialize_metal_grid(grid_size)\n",
    "hydrogen_grid = initialize_hydrogen_grid(grid_size)"
   ]
  },
  {
   "cell_type": "code",
   "execution_count": 65,
   "id": "a190c634",
   "metadata": {},
   "outputs": [
    {
     "name": "stdout",
     "output_type": "stream",
     "text": [
      "[[0 0 0 0 0 1 1 1 1 1]\n",
      " [0 0 0 0 0 1 1 1 1 1]\n",
      " [0 0 0 0 0 1 1 1 1 1]\n",
      " [0 0 0 0 0 1 1 1 1 1]\n",
      " [0 0 0 0 0 1 1 1 1 1]\n",
      " [1 1 1 1 1 0 0 0 0 0]\n",
      " [1 1 1 1 1 0 0 0 0 0]\n",
      " [1 1 1 1 1 0 0 0 0 0]\n",
      " [1 1 1 1 1 0 0 0 0 0]\n",
      " [1 1 1 1 1 0 0 0 0 0]]\n"
     ]
    },
    {
     "data": {
      "text/plain": [
       "<matplotlib.image.AxesImage at 0x1c41f28dbb0>"
      ]
     },
     "execution_count": 65,
     "metadata": {},
     "output_type": "execute_result"
    },
    {
     "data": {
      "image/png": "[encoded data removed]",
      "text/plain": [
       "<Figure size 432x288 with 1 Axes>"
      ]
     },
     "metadata": {
      "needs_background": "light"
     },
     "output_type": "display_data"
    }
   ],
   "source": [
    "print(metal_grid)\n",
    "plt.imshow(metal_grid)"
   ]
  },
  {
   "cell_type": "code",
   "execution_count": 66,
   "id": "2f31086e",
   "metadata": {},
   "outputs": [
    {
     "name": "stdout",
     "output_type": "stream",
     "text": [
      "[[1 1 1 1 1 0 0 0 0 0]\n",
      " [1 1 1 1 1 0 0 0 0 0]\n",
      " [1 1 1 1 1 0 0 0 0 0]\n",
      " [1 1 1 1 1 0 0 0 0 0]\n",
      " [1 1 1 1 1 0 0 0 0 0]\n",
      " [0 0 0 0 0 1 1 1 1 1]\n",
      " [0 0 0 0 0 1 1 1 1 1]\n",
      " [0 0 0 0 0 1 1 1 1 1]\n",
      " [0 0 0 0 0 1 1 1 1 1]\n",
      " [0 0 0 0 0 1 1 1 1 1]]\n"
     ]
    },
    {
     "data": {
      "text/plain": [
       "<matplotlib.image.AxesImage at 0x1c438187e20>"
      ]
     },
     "execution_count": 66,
     "metadata": {},
     "output_type": "execute_result"
    },
    {
     "data": {
      "image/png": "[encoded data removed]",
      "text/plain": [
       "<Figure size 432x288 with 1 Axes>"
      ]
     },
     "metadata": {
      "needs_background": "light"
     },
     "output_type": "display_data"
    }
   ],
   "source": [
    "print(hydrogen_grid)\n",
    "plt.imshow(hydrogen_grid)"
   ]
  },
  {
   "cell_type": "code",
   "execution_count": 67,
   "id": "71b5fb20",
   "metadata": {
    "scrolled": false
   },
   "outputs": [
    {
     "name": "stdout",
     "output_type": "stream",
     "text": [
      "Trying to swap positions (9,5) with (0,5) - The change in energy is -4\n",
      "Jump accepted!\n",
      "[[1 1 1 1 1 1 0 0 0 0]\n",
      " [1 1 1 1 1 0 0 0 0 0]\n",
      " [1 1 1 1 1 0 0 0 0 0]\n",
      " [1 1 1 1 1 0 0 0 0 0]\n",
      " [1 1 1 1 1 0 0 0 0 0]\n",
      " [0 0 0 0 0 1 1 1 1 1]\n",
      " [0 0 0 0 0 1 1 1 1 1]\n",
      " [0 0 0 0 0 1 1 1 1 1]\n",
      " [0 0 0 0 0 1 1 1 1 1]\n",
      " [0 0 0 0 0 0 1 1 1 1]]\n"
     ]
    },
    {
     "data": {
      "image/png": "[encoded data removed]",
      "text/plain": [
       "<Figure size 432x288 with 1 Axes>"
      ]
     },
     "metadata": {
      "needs_background": "light"
     },
     "output_type": "display_data"
    },
    {
     "data": {
      "image/png": "[encoded data removed]",
      "text/plain": [
       "<Figure size 432x288 with 1 Axes>"
      ]
     },
     "metadata": {
      "needs_background": "light"
     },
     "output_type": "display_data"
    },
    {
     "name": "stdout",
     "output_type": "stream",
     "text": [
      "Successful hydrogen self-diffusion - No changes expected!\n",
      "[[1 1 1 1 1 1 0 0 0 0]\n",
      " [1 1 1 1 1 0 0 0 0 0]\n",
      " [1 1 1 1 1 0 0 0 0 0]\n",
      " [1 1 1 1 1 0 0 0 0 0]\n",
      " [1 1 1 1 1 0 0 0 0 0]\n",
      " [0 0 0 0 0 1 1 1 1 1]\n",
      " [0 0 0 0 0 1 1 1 1 1]\n",
      " [0 0 0 0 0 1 1 1 1 1]\n",
      " [0 0 0 0 0 1 1 1 1 1]\n",
      " [0 0 0 0 0 0 1 1 1 1]]\n"
     ]
    },
    {
     "data": {
      "image/png": "[encoded data removed]",
      "text/plain": [
       "<Figure size 432x288 with 1 Axes>"
      ]
     },
     "metadata": {
      "needs_background": "light"
     },
     "output_type": "display_data"
    },
    {
     "data": {
      "image/png": "[encoded data removed]",
      "text/plain": [
       "<Figure size 432x288 with 1 Axes>"
      ]
     },
     "metadata": {
      "needs_background": "light"
     },
     "output_type": "display_data"
    },
    {
     "name": "stdout",
     "output_type": "stream",
     "text": [
      "Successful hydrogen self-diffusion - No changes expected!\n",
      "[[1 1 1 1 1 1 0 0 0 0]\n",
      " [1 1 1 1 1 0 0 0 0 0]\n",
      " [1 1 1 1 1 0 0 0 0 0]\n",
      " [1 1 1 1 1 0 0 0 0 0]\n",
      " [1 1 1 1 1 0 0 0 0 0]\n",
      " [0 0 0 0 0 1 1 1 1 1]\n",
      " [0 0 0 0 0 1 1 1 1 1]\n",
      " [0 0 0 0 0 1 1 1 1 1]\n",
      " [0 0 0 0 0 1 1 1 1 1]\n",
      " [0 0 0 0 0 0 1 1 1 1]]\n"
     ]
    },
    {
     "data": {
      "image/png": "[encoded data removed]",
      "text/plain": [
       "<Figure size 432x288 with 1 Axes>"
      ]
     },
     "metadata": {
      "needs_background": "light"
     },
     "output_type": "display_data"
    },
    {
     "data": {
      "image/png": "[encoded data removed]",
      "text/plain": [
       "<Figure size 432x288 with 1 Axes>"
      ]
     },
     "metadata": {
      "needs_background": "light"
     },
     "output_type": "display_data"
    },
    {
     "name": "stdout",
     "output_type": "stream",
     "text": [
      "Successful hydrogen self-diffusion - No changes expected!\n",
      "[[1 1 1 1 1 1 0 0 0 0]\n",
      " [1 1 1 1 1 0 0 0 0 0]\n",
      " [1 1 1 1 1 0 0 0 0 0]\n",
      " [1 1 1 1 1 0 0 0 0 0]\n",
      " [1 1 1 1 1 0 0 0 0 0]\n",
      " [0 0 0 0 0 1 1 1 1 1]\n",
      " [0 0 0 0 0 1 1 1 1 1]\n",
      " [0 0 0 0 0 1 1 1 1 1]\n",
      " [0 0 0 0 0 1 1 1 1 1]\n",
      " [0 0 0 0 0 0 1 1 1 1]]\n"
     ]
    },
    {
     "data": {
      "image/png": "[encoded data removed]",
      "text/plain": [
       "<Figure size 432x288 with 1 Axes>"
      ]
     },
     "metadata": {
      "needs_background": "light"
     },
     "output_type": "display_data"
    },
    {
     "data": {
      "image/png": "[encoded data removed]",
      "text/plain": [
       "<Figure size 432x288 with 1 Axes>"
      ]
     },
     "metadata": {
      "needs_background": "light"
     },
     "output_type": "display_data"
    },
    {
     "name": "stdout",
     "output_type": "stream",
     "text": [
      "Trying to swap positions (9,9) with (0,9) - The change in energy is 0\n",
      "Jump accepted!\n",
      "[[1 1 1 1 1 1 0 0 0 1]\n",
      " [1 1 1 1 1 0 0 0 0 0]\n",
      " [1 1 1 1 1 0 0 0 0 0]\n",
      " [1 1 1 1 1 0 0 0 0 0]\n",
      " [1 1 1 1 1 0 0 0 0 0]\n",
      " [0 0 0 0 0 1 1 1 1 1]\n",
      " [0 0 0 0 0 1 1 1 1 1]\n",
      " [0 0 0 0 0 1 1 1 1 1]\n",
      " [0 0 0 0 0 1 1 1 1 1]\n",
      " [0 0 0 0 0 0 1 1 1 0]]\n"
     ]
    },
    {
     "data": {
      "image/png": "[encoded data removed]",
      "text/plain": [
       "<Figure size 432x288 with 1 Axes>"
      ]
     },
     "metadata": {
      "needs_background": "light"
     },
     "output_type": "display_data"
    },
    {
     "data": {
      "image/png": "[encoded data removed]",
      "text/plain": [
       "<Figure size 432x288 with 1 Axes>"
      ]
     },
     "metadata": {
      "needs_background": "light"
     },
     "output_type": "display_data"
    },
    {
     "name": "stdout",
     "output_type": "stream",
     "text": [
      "Trying to swap positions (7,9) with (7,0) - The change in energy is -4\n",
      "Jump accepted!\n",
      "[[1 1 1 1 1 1 0 0 0 1]\n",
      " [1 1 1 1 1 0 0 0 0 0]\n",
      " [1 1 1 1 1 0 0 0 0 0]\n",
      " [1 1 1 1 1 0 0 0 0 0]\n",
      " [1 1 1 1 1 0 0 0 0 0]\n",
      " [0 0 0 0 0 1 1 1 1 1]\n",
      " [0 0 0 0 0 1 1 1 1 1]\n",
      " [1 0 0 0 0 1 1 1 1 0]\n",
      " [0 0 0 0 0 1 1 1 1 1]\n",
      " [0 0 0 0 0 0 1 1 1 0]]\n"
     ]
    },
    {
     "data": {
      "image/png": "[encoded data removed]",
      "text/plain": [
       "<Figure size 432x288 with 1 Axes>"
      ]
     },
     "metadata": {
      "needs_background": "light"
     },
     "output_type": "display_data"
    },
    {
     "data": {
      "image/png": "[encoded data removed]",
      "text/plain": [
       "<Figure size 432x288 with 1 Axes>"
      ]
     },
     "metadata": {
      "needs_background": "light"
     },
     "output_type": "display_data"
    },
    {
     "name": "stdout",
     "output_type": "stream",
     "text": [
      "Trying to swap positions (0,2) with (9,2) - The change in energy is -4\n",
      "Jump accepted!\n",
      "[[1 1 0 1 1 1 0 0 0 1]\n",
      " [1 1 1 1 1 0 0 0 0 0]\n",
      " [1 1 1 1 1 0 0 0 0 0]\n",
      " [1 1 1 1 1 0 0 0 0 0]\n",
      " [1 1 1 1 1 0 0 0 0 0]\n",
      " [0 0 0 0 0 1 1 1 1 1]\n",
      " [0 0 0 0 0 1 1 1 1 1]\n",
      " [1 0 0 0 0 1 1 1 1 0]\n",
      " [0 0 0 0 0 1 1 1 1 1]\n",
      " [0 0 1 0 0 0 1 1 1 0]]\n"
     ]
    },
    {
     "data": {
      "image/png": "[encoded data removed]",
      "text/plain": [
       "<Figure size 432x288 with 1 Axes>"
      ]
     },
     "metadata": {
      "needs_background": "light"
     },
     "output_type": "display_data"
    },
    {
     "data": {
      "image/png": "[encoded data removed]",
      "text/plain": [
       "<Figure size 432x288 with 1 Axes>"
      ]
     },
     "metadata": {
      "needs_background": "light"
     },
     "output_type": "display_data"
    },
    {
     "name": "stdout",
     "output_type": "stream",
     "text": [
      "Successful hydrogen self-diffusion - No changes expected!\n",
      "[[1 1 0 1 1 1 0 0 0 1]\n",
      " [1 1 1 1 1 0 0 0 0 0]\n",
      " [1 1 1 1 1 0 0 0 0 0]\n",
      " [1 1 1 1 1 0 0 0 0 0]\n",
      " [1 1 1 1 1 0 0 0 0 0]\n",
      " [0 0 0 0 0 1 1 1 1 1]\n",
      " [0 0 0 0 0 1 1 1 1 1]\n",
      " [1 0 0 0 0 1 1 1 1 0]\n",
      " [0 0 0 0 0 1 1 1 1 1]\n",
      " [0 0 1 0 0 0 1 1 1 0]]\n"
     ]
    },
    {
     "data": {
      "image/png": "[encoded data removed]",
      "text/plain": [
       "<Figure size 432x288 with 1 Axes>"
      ]
     },
     "metadata": {
      "needs_background": "light"
     },
     "output_type": "display_data"
    },
    {
     "data": {
      "image/png": "[encoded data removed]",
      "text/plain": [
       "<Figure size 432x288 with 1 Axes>"
      ]
     },
     "metadata": {
      "needs_background": "light"
     },
     "output_type": "display_data"
    },
    {
     "name": "stdout",
     "output_type": "stream",
     "text": [
      "Successful hydrogen self-diffusion - No changes expected!\n",
      "[[1 1 0 1 1 1 0 0 0 1]\n",
      " [1 1 1 1 1 0 0 0 0 0]\n",
      " [1 1 1 1 1 0 0 0 0 0]\n",
      " [1 1 1 1 1 0 0 0 0 0]\n",
      " [1 1 1 1 1 0 0 0 0 0]\n",
      " [0 0 0 0 0 1 1 1 1 1]\n",
      " [0 0 0 0 0 1 1 1 1 1]\n",
      " [1 0 0 0 0 1 1 1 1 0]\n",
      " [0 0 0 0 0 1 1 1 1 1]\n",
      " [0 0 1 0 0 0 1 1 1 0]]\n"
     ]
    },
    {
     "data": {
      "image/png": "[encoded data removed]",
      "text/plain": [
       "<Figure size 432x288 with 1 Axes>"
      ]
     },
     "metadata": {
      "needs_background": "light"
     },
     "output_type": "display_data"
    },
    {
     "data": {
      "image/png": "[encoded data removed]",
      "text/plain": [
       "<Figure size 432x288 with 1 Axes>"
      ]
     },
     "metadata": {
      "needs_background": "light"
     },
     "output_type": "display_data"
    },
    {
     "name": "stdout",
     "output_type": "stream",
     "text": [
      "Successful hydrogen self-diffusion - No changes expected!\n",
      "[[1 1 0 1 1 1 0 0 0 1]\n",
      " [1 1 1 1 1 0 0 0 0 0]\n",
      " [1 1 1 1 1 0 0 0 0 0]\n",
      " [1 1 1 1 1 0 0 0 0 0]\n",
      " [1 1 1 1 1 0 0 0 0 0]\n",
      " [0 0 0 0 0 1 1 1 1 1]\n",
      " [0 0 0 0 0 1 1 1 1 1]\n",
      " [1 0 0 0 0 1 1 1 1 0]\n",
      " [0 0 0 0 0 1 1 1 1 1]\n",
      " [0 0 1 0 0 0 1 1 1 0]]\n"
     ]
    },
    {
     "data": {
      "image/png": "[encoded data removed]",
      "text/plain": [
       "<Figure size 432x288 with 1 Axes>"
      ]
     },
     "metadata": {
      "needs_background": "light"
     },
     "output_type": "display_data"
    },
    {
     "data": {
      "image/png": "[encoded data removed]",
      "text/plain": [
       "<Figure size 432x288 with 1 Axes>"
      ]
     },
     "metadata": {
      "needs_background": "light"
     },
     "output_type": "display_data"
    }
   ],
   "source": [
    "kT = 1\n",
    "E_AH = +1\n",
    "E_BH = -1\n",
    "\n",
    "# Initialize counter for successful jumps\n",
    "successful_jumps = 0\n",
    "total_steps = 10  # Total number of Monte Carlo steps\n",
    "\n",
    "hydrogen_positions = np.argwhere(hydrogen_grid == 1)\n",
    "\n",
    "for i in range(total_steps):\n",
    "\n",
    "    # Perform one Monte Carlo step\n",
    "    _, x, y, nx, ny = hydrogen_diffusion_step(hydrogen_grid, metal_grid, kT, E_AH, E_BH, hydrogen_positions) \n",
    "\n",
    "    # Print the final grid\n",
    "    print(hydrogen_grid)\n",
    "    plt.imshow(metal_grid)\n",
    "    plt.plot(y, x, \"o\", color=\"red\")\n",
    "    plt.plot(ny, nx, \"s\", color=\"red\")\n",
    "    plt.show()\n",
    "    plt.imshow(hydrogen_grid)\n",
    "    plt.plot(y, x, \"o\", color=\"red\")\n",
    "    plt.plot(ny, nx, \"s\", color=\"red\")\n",
    "    plt.show()\n",
    "\n"
   ]
  },
  {
   "cell_type": "markdown",
   "id": "33fd214e",
   "metadata": {},
   "source": [
    "---\n",
    "\n",
    "### def calculate_total_metal_hydrogen_interaction_energy(metal_grid, hydrogen_grid, E_AH, E_BH):\n",
    "\n",
    "#### Physical Interpretation:\n",
    "\n",
    "Metal-Hydrogen Interactions:\n",
    "\n",
    "    Each metal atom also interacts with the surrounding hydrogen atoms in the interstitial sites. The interaction energy depends on the metal type (A or B) and the corresponding interaction energy (E_AH or E_BH). These interactions influence the overall configuration of the system, as hydrogen atoms may prefer to remain near certain metal atoms, driving diffusion and alloying processes.\n",
    "        \n",
    "---"
   ]
  },
  {
   "cell_type": "code",
   "execution_count": 68,
   "id": "dd86b0a5",
   "metadata": {},
   "outputs": [],
   "source": [
    "# Function that sums up all the interaction energies between hydrogen and metals\n",
    "def calculate_total_metal_hydrogen_interaction_energy(metal_grid, hydrogen_grid, E_AH, E_BH):\n",
    "    \"\"\"\n",
    "    Vectorized calculation of the total metal-hydrogen interaction energy in the grid.\n",
    "\n",
    "    Parameters:\n",
    "    - metal_grid       : np.array, 2D array representing metal atom types (0 for A, 1 for B).\n",
    "    - hydrogen_grid    : np.array, 2D array representing hydrogen atom presence (1 for hydrogen, 0 for empty).\n",
    "    - E_AH             : float, interaction energy between metal A atoms and hydrogen.\n",
    "    - E_BH             : float, interaction energy between metal B atoms and hydrogen.\n",
    "\n",
    "    Returns:\n",
    "    - total_energy     : float, total interaction energy between all hydrogen atoms and their surrounding metals.\n",
    "    \"\"\"\n",
    "    # Shift the metal grid to simulate the periodic neighbor interactions\n",
    "    # Hydrogen interacts with the 4 surrounding metal atoms (periodic boundary conditions are applied):\n",
    "    metal_neighbor_1 = metal_grid  # top left intersitial neighbor\n",
    "    metal_neighbor_2 = np.roll(metal_grid, shift= -1, axis=1)  # top right intersitial neighbor\n",
    "    metal_neighbor_3 = np.roll(metal_grid, shift= -1, axis=0)  # lower left intersitial neighbor\n",
    "    metal_neighbor_4 = np.roll(np.roll(metal_grid, shift= -1, axis=0), shift= -1, axis=1)  # lower right intersitial neighbor\n",
    "\n",
    "    interaction_AH = 0\n",
    "    interaction_BH = 0\n",
    "    for metal_grid in [metal_neighbor_1, metal_neighbor_2, metal_neighbor_3, metal_neighbor_4]:\n",
    "        # Interaction for A atoms (A = 0), only where hydrogen is present (hydrogen_grid == 1)\n",
    "        interaction_AH += (metal_grid == 0) * (hydrogen_grid == 1) * E_AH\n",
    "        # Interaction for B atoms (B = 1), only where hydrogen is present (hydrogen_grid == 1)\n",
    "        interaction_BH += (metal_grid == 1) * (hydrogen_grid == 1) * E_BH\n",
    "    \n",
    "    total_energy = np.sum(interaction_AH) + np.sum(interaction_BH)\n",
    "\n",
    "    return total_energy\n"
   ]
  },
  {
   "cell_type": "code",
   "execution_count": 69,
   "id": "9f830eb4",
   "metadata": {},
   "outputs": [
    {
     "data": {
      "text/html": [
       "<svg  width=\"275\" height=\"55\"><rect x=\"0\" y=\"0\" width=\"55\" height=\"55\" style=\"fill:#4c72b0;stroke-width:2;stroke:rgb(255,255,255)\"/><rect x=\"55\" y=\"0\" width=\"55\" height=\"55\" style=\"fill:#dd8452;stroke-width:2;stroke:rgb(255,255,255)\"/><rect x=\"110\" y=\"0\" width=\"55\" height=\"55\" style=\"fill:#55a868;stroke-width:2;stroke:rgb(255,255,255)\"/><rect x=\"165\" y=\"0\" width=\"55\" height=\"55\" style=\"fill:#c44e52;stroke-width:2;stroke:rgb(255,255,255)\"/><rect x=\"220\" y=\"0\" width=\"55\" height=\"55\" style=\"fill:#8172b3;stroke-width:2;stroke:rgb(255,255,255)\"/></svg>"
      ],
      "text/plain": [
       "[(0.2980392156862745, 0.4470588235294118, 0.6901960784313725),\n",
       " (0.8666666666666667, 0.5176470588235295, 0.3215686274509804),\n",
       " (0.3333333333333333, 0.6588235294117647, 0.40784313725490196),\n",
       " (0.7686274509803922, 0.3058823529411765, 0.3215686274509804),\n",
       " (0.5058823529411764, 0.4470588235294118, 0.7019607843137254)]"
      ]
     },
     "execution_count": 69,
     "metadata": {},
     "output_type": "execute_result"
    }
   ],
   "source": [
    "sns.color_palette(\"deep\", 5)"
   ]
  },
  {
   "cell_type": "markdown",
   "id": "b1698866",
   "metadata": {},
   "source": [
    "#### Demonstration"
   ]
  },
  {
   "cell_type": "code",
   "execution_count": 70,
   "id": "91a34376",
   "metadata": {},
   "outputs": [],
   "source": [
    "# If you want to start a new simulation you can re-initialize the grid here\n",
    "grid_size     = 4\n",
    "metal_grid    = initialize_metal_grid(grid_size)\n",
    "hydrogen_grid = initialize_hydrogen_grid(grid_size)"
   ]
  },
  {
   "cell_type": "code",
   "execution_count": 71,
   "id": "bf8ca01d",
   "metadata": {},
   "outputs": [
    {
     "name": "stdout",
     "output_type": "stream",
     "text": [
      "[[0 0 1 1]\n",
      " [0 0 1 1]\n",
      " [1 1 0 0]\n",
      " [1 1 0 0]]\n"
     ]
    }
   ],
   "source": [
    "print(metal_grid)"
   ]
  },
  {
   "cell_type": "code",
   "execution_count": 72,
   "id": "1d9d9d44",
   "metadata": {},
   "outputs": [
    {
     "name": "stdout",
     "output_type": "stream",
     "text": [
      "[[1 1 0 0]\n",
      " [1 1 0 0]\n",
      " [0 0 1 1]\n",
      " [0 0 1 1]]\n"
     ]
    }
   ],
   "source": [
    "print(hydrogen_grid)"
   ]
  },
  {
   "cell_type": "code",
   "execution_count": 73,
   "id": "be258260",
   "metadata": {},
   "outputs": [
    {
     "data": {
      "text/plain": [
       "-14.0"
      ]
     },
     "execution_count": 73,
     "metadata": {},
     "output_type": "execute_result"
    }
   ],
   "source": [
    "E_AH = -1\n",
    "E_BH = +0.5\n",
    "\n",
    "calculate_total_metal_hydrogen_interaction_energy(metal_grid, hydrogen_grid, E_AH, E_BH)"
   ]
  },
  {
   "cell_type": "code",
   "execution_count": 74,
   "id": "c205ad29",
   "metadata": {},
   "outputs": [],
   "source": [
    "#hydrogen_grid = np.ones((grid_size, grid_size))\n",
    "#hydrogen_grid"
   ]
  },
  {
   "cell_type": "markdown",
   "id": "90acfc4e",
   "metadata": {},
   "source": [
    "#### Demonstration+ "
   ]
  },
  {
   "cell_type": "code",
   "execution_count": 75,
   "id": "7cea337c",
   "metadata": {
    "scrolled": true
   },
   "outputs": [],
   "source": [
    "# Similar to the enthalpy input values for the metal-metal interactions\n",
    "# the enthalpy of dissolution / hydride formation is only completely released if the hydrogen is surounded by 4 metal atoms (of the same kind).\n",
    "# Therefore the interaction energy is only 1/4 of this enthalpy, because in this 2D case every H can be surrounded by 4 metal atoms.\n",
    "E_AH =  1 / 4\n",
    "E_BH = - 1 / 4\n",
    "\n",
    "E_tot = calculate_total_metal_hydrogen_interaction_energy(metal_grid, hydrogen_grid, E_AH, E_BH)"
   ]
  },
  {
   "cell_type": "code",
   "execution_count": 76,
   "id": "28c1559b",
   "metadata": {},
   "outputs": [
    {
     "data": {
      "text/plain": [
       "0.25"
      ]
     },
     "execution_count": 76,
     "metadata": {},
     "output_type": "execute_result"
    }
   ],
   "source": [
    "# Dividing by the amount of H results again in the original enthalpie input.\n",
    "dH_diss = E_tot / hydrogen_grid.sum()\n",
    "dH_diss"
   ]
  }
 ],
 "metadata": {
  "kernelspec": {
   "display_name": "Python 3",
   "language": "python",
   "name": "python3"
  },
  "language_info": {
   "codemirror_mode": {
    "name": "ipython",
    "version": 3
   },
   "file_extension": ".py",
   "mimetype": "text/x-python",
   "name": "python",
   "nbconvert_exporter": "python",
   "pygments_lexer": "ipython3",
   "version": "3.8.8"
  }
 },
 "nbformat": 4,
 "nbformat_minor": 5
}
